{
 "cells": [
  {
   "cell_type": "markdown",
   "metadata": {},
   "source": [
    "### Download and prepare the data. Explain the procedure."
   ]
  },
  {
   "cell_type": "code",
   "execution_count": 10,
   "metadata": {},
   "outputs": [],
   "source": [
    "import scipy\n",
    "import numpy as np\n",
    "import pandas as pd\n",
    "import matplotlib.pyplot as plt\n",
    "import seaborn as sns\n",
    "%matplotlib inline\n",
    "from random import shuffle\n",
    "\n",
    "from sklearn.preprocessing import OrdinalEncoder \n",
    "\n",
    "from sklearn.model_selection import train_test_split \n",
    "from sklearn.model_selection import GridSearchCV\n",
    "\n",
    "from sklearn.metrics import accuracy_score\n",
    "from sklearn.metrics import precision_score\n",
    "from sklearn.metrics import recall_score\n",
    "from sklearn.metrics import f1_score\n",
    "from sklearn.metrics import confusion_matrix\n",
    "from sklearn.metrics import classification_report\n",
    "from sklearn.metrics import mean_squared_error\n",
    "from sklearn.metrics import roc_auc_score\n",
    "from sklearn.metrics import roc_curve\n",
    "from sklearn.metrics import precision_recall_curve\n",
    "\n",
    "from sklearn.tree import DecisionTreeClassifier\n",
    "from sklearn.ensemble import RandomForestClassifier\n",
    "from sklearn.linear_model import LogisticRegression\n",
    "\n",
    "data = pd.read_csv('/datasets/Churn.csv')"
   ]
  },
  {
   "cell_type": "code",
   "execution_count": 11,
   "metadata": {},
   "outputs": [
    {
     "data": {
      "text/html": [
       "<div>\n",
       "<style scoped>\n",
       "    .dataframe tbody tr th:only-of-type {\n",
       "        vertical-align: middle;\n",
       "    }\n",
       "\n",
       "    .dataframe tbody tr th {\n",
       "        vertical-align: top;\n",
       "    }\n",
       "\n",
       "    .dataframe thead th {\n",
       "        text-align: right;\n",
       "    }\n",
       "</style>\n",
       "<table border=\"1\" class=\"dataframe\">\n",
       "  <thead>\n",
       "    <tr style=\"text-align: right;\">\n",
       "      <th></th>\n",
       "      <th>RowNumber</th>\n",
       "      <th>CustomerId</th>\n",
       "      <th>Surname</th>\n",
       "      <th>CreditScore</th>\n",
       "      <th>Geography</th>\n",
       "      <th>Gender</th>\n",
       "      <th>Age</th>\n",
       "      <th>Tenure</th>\n",
       "      <th>Balance</th>\n",
       "      <th>NumOfProducts</th>\n",
       "      <th>HasCrCard</th>\n",
       "      <th>IsActiveMember</th>\n",
       "      <th>EstimatedSalary</th>\n",
       "      <th>Exited</th>\n",
       "    </tr>\n",
       "  </thead>\n",
       "  <tbody>\n",
       "    <tr>\n",
       "      <td>0</td>\n",
       "      <td>1</td>\n",
       "      <td>15634602</td>\n",
       "      <td>Hargrave</td>\n",
       "      <td>619</td>\n",
       "      <td>France</td>\n",
       "      <td>Female</td>\n",
       "      <td>42</td>\n",
       "      <td>2.0</td>\n",
       "      <td>0.00</td>\n",
       "      <td>1</td>\n",
       "      <td>1</td>\n",
       "      <td>1</td>\n",
       "      <td>101348.88</td>\n",
       "      <td>1</td>\n",
       "    </tr>\n",
       "    <tr>\n",
       "      <td>1</td>\n",
       "      <td>2</td>\n",
       "      <td>15647311</td>\n",
       "      <td>Hill</td>\n",
       "      <td>608</td>\n",
       "      <td>Spain</td>\n",
       "      <td>Female</td>\n",
       "      <td>41</td>\n",
       "      <td>1.0</td>\n",
       "      <td>83807.86</td>\n",
       "      <td>1</td>\n",
       "      <td>0</td>\n",
       "      <td>1</td>\n",
       "      <td>112542.58</td>\n",
       "      <td>0</td>\n",
       "    </tr>\n",
       "    <tr>\n",
       "      <td>2</td>\n",
       "      <td>3</td>\n",
       "      <td>15619304</td>\n",
       "      <td>Onio</td>\n",
       "      <td>502</td>\n",
       "      <td>France</td>\n",
       "      <td>Female</td>\n",
       "      <td>42</td>\n",
       "      <td>8.0</td>\n",
       "      <td>159660.80</td>\n",
       "      <td>3</td>\n",
       "      <td>1</td>\n",
       "      <td>0</td>\n",
       "      <td>113931.57</td>\n",
       "      <td>1</td>\n",
       "    </tr>\n",
       "    <tr>\n",
       "      <td>3</td>\n",
       "      <td>4</td>\n",
       "      <td>15701354</td>\n",
       "      <td>Boni</td>\n",
       "      <td>699</td>\n",
       "      <td>France</td>\n",
       "      <td>Female</td>\n",
       "      <td>39</td>\n",
       "      <td>1.0</td>\n",
       "      <td>0.00</td>\n",
       "      <td>2</td>\n",
       "      <td>0</td>\n",
       "      <td>0</td>\n",
       "      <td>93826.63</td>\n",
       "      <td>0</td>\n",
       "    </tr>\n",
       "    <tr>\n",
       "      <td>4</td>\n",
       "      <td>5</td>\n",
       "      <td>15737888</td>\n",
       "      <td>Mitchell</td>\n",
       "      <td>850</td>\n",
       "      <td>Spain</td>\n",
       "      <td>Female</td>\n",
       "      <td>43</td>\n",
       "      <td>2.0</td>\n",
       "      <td>125510.82</td>\n",
       "      <td>1</td>\n",
       "      <td>1</td>\n",
       "      <td>1</td>\n",
       "      <td>79084.10</td>\n",
       "      <td>0</td>\n",
       "    </tr>\n",
       "    <tr>\n",
       "      <td>...</td>\n",
       "      <td>...</td>\n",
       "      <td>...</td>\n",
       "      <td>...</td>\n",
       "      <td>...</td>\n",
       "      <td>...</td>\n",
       "      <td>...</td>\n",
       "      <td>...</td>\n",
       "      <td>...</td>\n",
       "      <td>...</td>\n",
       "      <td>...</td>\n",
       "      <td>...</td>\n",
       "      <td>...</td>\n",
       "      <td>...</td>\n",
       "      <td>...</td>\n",
       "    </tr>\n",
       "    <tr>\n",
       "      <td>9995</td>\n",
       "      <td>9996</td>\n",
       "      <td>15606229</td>\n",
       "      <td>Obijiaku</td>\n",
       "      <td>771</td>\n",
       "      <td>France</td>\n",
       "      <td>Male</td>\n",
       "      <td>39</td>\n",
       "      <td>5.0</td>\n",
       "      <td>0.00</td>\n",
       "      <td>2</td>\n",
       "      <td>1</td>\n",
       "      <td>0</td>\n",
       "      <td>96270.64</td>\n",
       "      <td>0</td>\n",
       "    </tr>\n",
       "    <tr>\n",
       "      <td>9996</td>\n",
       "      <td>9997</td>\n",
       "      <td>15569892</td>\n",
       "      <td>Johnstone</td>\n",
       "      <td>516</td>\n",
       "      <td>France</td>\n",
       "      <td>Male</td>\n",
       "      <td>35</td>\n",
       "      <td>10.0</td>\n",
       "      <td>57369.61</td>\n",
       "      <td>1</td>\n",
       "      <td>1</td>\n",
       "      <td>1</td>\n",
       "      <td>101699.77</td>\n",
       "      <td>0</td>\n",
       "    </tr>\n",
       "    <tr>\n",
       "      <td>9997</td>\n",
       "      <td>9998</td>\n",
       "      <td>15584532</td>\n",
       "      <td>Liu</td>\n",
       "      <td>709</td>\n",
       "      <td>France</td>\n",
       "      <td>Female</td>\n",
       "      <td>36</td>\n",
       "      <td>7.0</td>\n",
       "      <td>0.00</td>\n",
       "      <td>1</td>\n",
       "      <td>0</td>\n",
       "      <td>1</td>\n",
       "      <td>42085.58</td>\n",
       "      <td>1</td>\n",
       "    </tr>\n",
       "    <tr>\n",
       "      <td>9998</td>\n",
       "      <td>9999</td>\n",
       "      <td>15682355</td>\n",
       "      <td>Sabbatini</td>\n",
       "      <td>772</td>\n",
       "      <td>Germany</td>\n",
       "      <td>Male</td>\n",
       "      <td>42</td>\n",
       "      <td>3.0</td>\n",
       "      <td>75075.31</td>\n",
       "      <td>2</td>\n",
       "      <td>1</td>\n",
       "      <td>0</td>\n",
       "      <td>92888.52</td>\n",
       "      <td>1</td>\n",
       "    </tr>\n",
       "    <tr>\n",
       "      <td>9999</td>\n",
       "      <td>10000</td>\n",
       "      <td>15628319</td>\n",
       "      <td>Walker</td>\n",
       "      <td>792</td>\n",
       "      <td>France</td>\n",
       "      <td>Female</td>\n",
       "      <td>28</td>\n",
       "      <td>NaN</td>\n",
       "      <td>130142.79</td>\n",
       "      <td>1</td>\n",
       "      <td>1</td>\n",
       "      <td>0</td>\n",
       "      <td>38190.78</td>\n",
       "      <td>0</td>\n",
       "    </tr>\n",
       "  </tbody>\n",
       "</table>\n",
       "<p>10000 rows × 14 columns</p>\n",
       "</div>"
      ],
      "text/plain": [
       "      RowNumber  CustomerId    Surname  CreditScore Geography  Gender  Age  \\\n",
       "0             1    15634602   Hargrave          619    France  Female   42   \n",
       "1             2    15647311       Hill          608     Spain  Female   41   \n",
       "2             3    15619304       Onio          502    France  Female   42   \n",
       "3             4    15701354       Boni          699    France  Female   39   \n",
       "4             5    15737888   Mitchell          850     Spain  Female   43   \n",
       "...         ...         ...        ...          ...       ...     ...  ...   \n",
       "9995       9996    15606229   Obijiaku          771    France    Male   39   \n",
       "9996       9997    15569892  Johnstone          516    France    Male   35   \n",
       "9997       9998    15584532        Liu          709    France  Female   36   \n",
       "9998       9999    15682355  Sabbatini          772   Germany    Male   42   \n",
       "9999      10000    15628319     Walker          792    France  Female   28   \n",
       "\n",
       "      Tenure    Balance  NumOfProducts  HasCrCard  IsActiveMember  \\\n",
       "0        2.0       0.00              1          1               1   \n",
       "1        1.0   83807.86              1          0               1   \n",
       "2        8.0  159660.80              3          1               0   \n",
       "3        1.0       0.00              2          0               0   \n",
       "4        2.0  125510.82              1          1               1   \n",
       "...      ...        ...            ...        ...             ...   \n",
       "9995     5.0       0.00              2          1               0   \n",
       "9996    10.0   57369.61              1          1               1   \n",
       "9997     7.0       0.00              1          0               1   \n",
       "9998     3.0   75075.31              2          1               0   \n",
       "9999     NaN  130142.79              1          1               0   \n",
       "\n",
       "      EstimatedSalary  Exited  \n",
       "0           101348.88       1  \n",
       "1           112542.58       0  \n",
       "2           113931.57       1  \n",
       "3            93826.63       0  \n",
       "4            79084.10       0  \n",
       "...               ...     ...  \n",
       "9995         96270.64       0  \n",
       "9996        101699.77       0  \n",
       "9997         42085.58       1  \n",
       "9998         92888.52       1  \n",
       "9999         38190.78       0  \n",
       "\n",
       "[10000 rows x 14 columns]"
      ]
     },
     "metadata": {},
     "output_type": "display_data"
    }
   ],
   "source": [
    "display(data)"
   ]
  },
  {
   "cell_type": "code",
   "execution_count": 12,
   "metadata": {},
   "outputs": [],
   "source": [
    "#Eliminating RowNumber column, since I have already indexes I don't want this column to distorce my model.\n",
    "data = data.drop('RowNumber', axis=1)"
   ]
  },
  {
   "cell_type": "code",
   "execution_count": 13,
   "metadata": {},
   "outputs": [],
   "source": [
    "#Renaming columns with lowercases.\n",
    "data.columns=(['customer_id', 'surname', 'credit_score', 'geography', 'gender', 'age', 'tenure','balance','num_of_products', 'has_cr_card','is_active_member','estimated_salary','exited'])"
   ]
  },
  {
   "cell_type": "code",
   "execution_count": 14,
   "metadata": {},
   "outputs": [
    {
     "data": {
      "text/html": [
       "<div>\n",
       "<style scoped>\n",
       "    .dataframe tbody tr th:only-of-type {\n",
       "        vertical-align: middle;\n",
       "    }\n",
       "\n",
       "    .dataframe tbody tr th {\n",
       "        vertical-align: top;\n",
       "    }\n",
       "\n",
       "    .dataframe thead th {\n",
       "        text-align: right;\n",
       "    }\n",
       "</style>\n",
       "<table border=\"1\" class=\"dataframe\">\n",
       "  <thead>\n",
       "    <tr style=\"text-align: right;\">\n",
       "      <th></th>\n",
       "      <th>customer_id</th>\n",
       "      <th>surname</th>\n",
       "      <th>credit_score</th>\n",
       "      <th>geography</th>\n",
       "      <th>gender</th>\n",
       "      <th>age</th>\n",
       "      <th>tenure</th>\n",
       "      <th>balance</th>\n",
       "      <th>num_of_products</th>\n",
       "      <th>has_cr_card</th>\n",
       "      <th>is_active_member</th>\n",
       "      <th>estimated_salary</th>\n",
       "      <th>exited</th>\n",
       "    </tr>\n",
       "  </thead>\n",
       "  <tbody>\n",
       "    <tr>\n",
       "      <td>0</td>\n",
       "      <td>15634602</td>\n",
       "      <td>Hargrave</td>\n",
       "      <td>619</td>\n",
       "      <td>France</td>\n",
       "      <td>Female</td>\n",
       "      <td>42</td>\n",
       "      <td>2.0</td>\n",
       "      <td>0.00</td>\n",
       "      <td>1</td>\n",
       "      <td>1</td>\n",
       "      <td>1</td>\n",
       "      <td>101348.88</td>\n",
       "      <td>1</td>\n",
       "    </tr>\n",
       "    <tr>\n",
       "      <td>1</td>\n",
       "      <td>15647311</td>\n",
       "      <td>Hill</td>\n",
       "      <td>608</td>\n",
       "      <td>Spain</td>\n",
       "      <td>Female</td>\n",
       "      <td>41</td>\n",
       "      <td>1.0</td>\n",
       "      <td>83807.86</td>\n",
       "      <td>1</td>\n",
       "      <td>0</td>\n",
       "      <td>1</td>\n",
       "      <td>112542.58</td>\n",
       "      <td>0</td>\n",
       "    </tr>\n",
       "    <tr>\n",
       "      <td>2</td>\n",
       "      <td>15619304</td>\n",
       "      <td>Onio</td>\n",
       "      <td>502</td>\n",
       "      <td>France</td>\n",
       "      <td>Female</td>\n",
       "      <td>42</td>\n",
       "      <td>8.0</td>\n",
       "      <td>159660.80</td>\n",
       "      <td>3</td>\n",
       "      <td>1</td>\n",
       "      <td>0</td>\n",
       "      <td>113931.57</td>\n",
       "      <td>1</td>\n",
       "    </tr>\n",
       "    <tr>\n",
       "      <td>3</td>\n",
       "      <td>15701354</td>\n",
       "      <td>Boni</td>\n",
       "      <td>699</td>\n",
       "      <td>France</td>\n",
       "      <td>Female</td>\n",
       "      <td>39</td>\n",
       "      <td>1.0</td>\n",
       "      <td>0.00</td>\n",
       "      <td>2</td>\n",
       "      <td>0</td>\n",
       "      <td>0</td>\n",
       "      <td>93826.63</td>\n",
       "      <td>0</td>\n",
       "    </tr>\n",
       "    <tr>\n",
       "      <td>4</td>\n",
       "      <td>15737888</td>\n",
       "      <td>Mitchell</td>\n",
       "      <td>850</td>\n",
       "      <td>Spain</td>\n",
       "      <td>Female</td>\n",
       "      <td>43</td>\n",
       "      <td>2.0</td>\n",
       "      <td>125510.82</td>\n",
       "      <td>1</td>\n",
       "      <td>1</td>\n",
       "      <td>1</td>\n",
       "      <td>79084.10</td>\n",
       "      <td>0</td>\n",
       "    </tr>\n",
       "    <tr>\n",
       "      <td>...</td>\n",
       "      <td>...</td>\n",
       "      <td>...</td>\n",
       "      <td>...</td>\n",
       "      <td>...</td>\n",
       "      <td>...</td>\n",
       "      <td>...</td>\n",
       "      <td>...</td>\n",
       "      <td>...</td>\n",
       "      <td>...</td>\n",
       "      <td>...</td>\n",
       "      <td>...</td>\n",
       "      <td>...</td>\n",
       "      <td>...</td>\n",
       "    </tr>\n",
       "    <tr>\n",
       "      <td>9995</td>\n",
       "      <td>15606229</td>\n",
       "      <td>Obijiaku</td>\n",
       "      <td>771</td>\n",
       "      <td>France</td>\n",
       "      <td>Male</td>\n",
       "      <td>39</td>\n",
       "      <td>5.0</td>\n",
       "      <td>0.00</td>\n",
       "      <td>2</td>\n",
       "      <td>1</td>\n",
       "      <td>0</td>\n",
       "      <td>96270.64</td>\n",
       "      <td>0</td>\n",
       "    </tr>\n",
       "    <tr>\n",
       "      <td>9996</td>\n",
       "      <td>15569892</td>\n",
       "      <td>Johnstone</td>\n",
       "      <td>516</td>\n",
       "      <td>France</td>\n",
       "      <td>Male</td>\n",
       "      <td>35</td>\n",
       "      <td>10.0</td>\n",
       "      <td>57369.61</td>\n",
       "      <td>1</td>\n",
       "      <td>1</td>\n",
       "      <td>1</td>\n",
       "      <td>101699.77</td>\n",
       "      <td>0</td>\n",
       "    </tr>\n",
       "    <tr>\n",
       "      <td>9997</td>\n",
       "      <td>15584532</td>\n",
       "      <td>Liu</td>\n",
       "      <td>709</td>\n",
       "      <td>France</td>\n",
       "      <td>Female</td>\n",
       "      <td>36</td>\n",
       "      <td>7.0</td>\n",
       "      <td>0.00</td>\n",
       "      <td>1</td>\n",
       "      <td>0</td>\n",
       "      <td>1</td>\n",
       "      <td>42085.58</td>\n",
       "      <td>1</td>\n",
       "    </tr>\n",
       "    <tr>\n",
       "      <td>9998</td>\n",
       "      <td>15682355</td>\n",
       "      <td>Sabbatini</td>\n",
       "      <td>772</td>\n",
       "      <td>Germany</td>\n",
       "      <td>Male</td>\n",
       "      <td>42</td>\n",
       "      <td>3.0</td>\n",
       "      <td>75075.31</td>\n",
       "      <td>2</td>\n",
       "      <td>1</td>\n",
       "      <td>0</td>\n",
       "      <td>92888.52</td>\n",
       "      <td>1</td>\n",
       "    </tr>\n",
       "    <tr>\n",
       "      <td>9999</td>\n",
       "      <td>15628319</td>\n",
       "      <td>Walker</td>\n",
       "      <td>792</td>\n",
       "      <td>France</td>\n",
       "      <td>Female</td>\n",
       "      <td>28</td>\n",
       "      <td>NaN</td>\n",
       "      <td>130142.79</td>\n",
       "      <td>1</td>\n",
       "      <td>1</td>\n",
       "      <td>0</td>\n",
       "      <td>38190.78</td>\n",
       "      <td>0</td>\n",
       "    </tr>\n",
       "  </tbody>\n",
       "</table>\n",
       "<p>10000 rows × 13 columns</p>\n",
       "</div>"
      ],
      "text/plain": [
       "      customer_id    surname  credit_score geography  gender  age  tenure  \\\n",
       "0        15634602   Hargrave           619    France  Female   42     2.0   \n",
       "1        15647311       Hill           608     Spain  Female   41     1.0   \n",
       "2        15619304       Onio           502    France  Female   42     8.0   \n",
       "3        15701354       Boni           699    France  Female   39     1.0   \n",
       "4        15737888   Mitchell           850     Spain  Female   43     2.0   \n",
       "...           ...        ...           ...       ...     ...  ...     ...   \n",
       "9995     15606229   Obijiaku           771    France    Male   39     5.0   \n",
       "9996     15569892  Johnstone           516    France    Male   35    10.0   \n",
       "9997     15584532        Liu           709    France  Female   36     7.0   \n",
       "9998     15682355  Sabbatini           772   Germany    Male   42     3.0   \n",
       "9999     15628319     Walker           792    France  Female   28     NaN   \n",
       "\n",
       "        balance  num_of_products  has_cr_card  is_active_member  \\\n",
       "0          0.00                1            1                 1   \n",
       "1      83807.86                1            0                 1   \n",
       "2     159660.80                3            1                 0   \n",
       "3          0.00                2            0                 0   \n",
       "4     125510.82                1            1                 1   \n",
       "...         ...              ...          ...               ...   \n",
       "9995       0.00                2            1                 0   \n",
       "9996   57369.61                1            1                 1   \n",
       "9997       0.00                1            0                 1   \n",
       "9998   75075.31                2            1                 0   \n",
       "9999  130142.79                1            1                 0   \n",
       "\n",
       "      estimated_salary  exited  \n",
       "0            101348.88       1  \n",
       "1            112542.58       0  \n",
       "2            113931.57       1  \n",
       "3             93826.63       0  \n",
       "4             79084.10       0  \n",
       "...                ...     ...  \n",
       "9995          96270.64       0  \n",
       "9996         101699.77       0  \n",
       "9997          42085.58       1  \n",
       "9998          92888.52       1  \n",
       "9999          38190.78       0  \n",
       "\n",
       "[10000 rows x 13 columns]"
      ]
     },
     "metadata": {},
     "output_type": "display_data"
    }
   ],
   "source": [
    "display(data)"
   ]
  },
  {
   "cell_type": "code",
   "execution_count": 15,
   "metadata": {
    "scrolled": true
   },
   "outputs": [
    {
     "name": "stdout",
     "output_type": "stream",
     "text": [
      "(10000, 13)\n",
      "\n",
      "The dataset has 10000 rows\n",
      "\n",
      "The dataset has 13 columns\n",
      "\n",
      "The dataset has 0 duplicates\n"
     ]
    }
   ],
   "source": [
    "#General information about dataset.\n",
    "\n",
    "print(data.shape)\n",
    "print()\n",
    "print('The dataset has {0}'.format(data.shape[0]), 'rows')\n",
    "print()\n",
    "print('The dataset has {0}'.format(data.shape[1]), 'columns')\n",
    "print()\n",
    "print('The dataset has {0}'.format(data.duplicated().sum()), 'duplicates')"
   ]
  },
  {
   "cell_type": "code",
   "execution_count": 16,
   "metadata": {},
   "outputs": [
    {
     "name": "stdout",
     "output_type": "stream",
     "text": [
      "NaN in the whole dataset are:\n",
      "customer_id           0\n",
      "surname               0\n",
      "credit_score          0\n",
      "geography             0\n",
      "gender                0\n",
      "age                   0\n",
      "tenure              909\n",
      "balance               0\n",
      "num_of_products       0\n",
      "has_cr_card           0\n",
      "is_active_member      0\n",
      "estimated_salary      0\n",
      "exited                0\n",
      "dtype: int64\n"
     ]
    }
   ],
   "source": [
    "print('NaN in the whole dataset are:')\n",
    "print(data.isna().sum())"
   ]
  },
  {
   "cell_type": "code",
   "execution_count": 17,
   "metadata": {},
   "outputs": [
    {
     "name": "stdout",
     "output_type": "stream",
     "text": [
      "        customer_id  credit_score           age       tenure        balance  \\\n",
      "count  1.000000e+04  10000.000000  10000.000000  9091.000000   10000.000000   \n",
      "mean   1.569094e+07    650.528800     38.921800     4.997690   76485.889288   \n",
      "std    7.193619e+04     96.653299     10.487806     2.894723   62397.405202   \n",
      "min    1.556570e+07    350.000000     18.000000     0.000000       0.000000   \n",
      "25%    1.562853e+07    584.000000     32.000000     2.000000       0.000000   \n",
      "50%    1.569074e+07    652.000000     37.000000     5.000000   97198.540000   \n",
      "75%    1.575323e+07    718.000000     44.000000     7.000000  127644.240000   \n",
      "max    1.581569e+07    850.000000     92.000000    10.000000  250898.090000   \n",
      "\n",
      "       num_of_products  has_cr_card  is_active_member  estimated_salary  \\\n",
      "count     10000.000000  10000.00000      10000.000000      10000.000000   \n",
      "mean          1.530200      0.70550          0.515100     100090.239881   \n",
      "std           0.581654      0.45584          0.499797      57510.492818   \n",
      "min           1.000000      0.00000          0.000000         11.580000   \n",
      "25%           1.000000      0.00000          0.000000      51002.110000   \n",
      "50%           1.000000      1.00000          1.000000     100193.915000   \n",
      "75%           2.000000      1.00000          1.000000     149388.247500   \n",
      "max           4.000000      1.00000          1.000000     199992.480000   \n",
      "\n",
      "             exited  \n",
      "count  10000.000000  \n",
      "mean       0.203700  \n",
      "std        0.402769  \n",
      "min        0.000000  \n",
      "25%        0.000000  \n",
      "50%        0.000000  \n",
      "75%        0.000000  \n",
      "max        1.000000  \n"
     ]
    }
   ],
   "source": [
    "print(data.describe())"
   ]
  },
  {
   "cell_type": "code",
   "execution_count": 18,
   "metadata": {
    "scrolled": false
   },
   "outputs": [
    {
     "name": "stdout",
     "output_type": "stream",
     "text": [
      "customer_id column:\n",
      "15812607    1\n",
      "15741078    1\n",
      "15635776    1\n",
      "15740223    1\n",
      "15738174    1\n",
      "           ..\n",
      "15743714    1\n",
      "15639265    1\n",
      "15641312    1\n",
      "15684319    1\n",
      "15695872    1\n",
      "Name: customer_id, Length: 10000, dtype: int64\n",
      "\n",
      "The number of unique value is: 10000\n",
      "\n",
      "surname column:\n",
      "Smith       32\n",
      "Martin      29\n",
      "Scott       29\n",
      "Walker      28\n",
      "Brown       26\n",
      "            ..\n",
      "Nickson      1\n",
      "Vanmeter     1\n",
      "Overby       1\n",
      "Hardacre     1\n",
      "Sholes       1\n",
      "Name: surname, Length: 2932, dtype: int64\n",
      "\n",
      "The number of unique value is: 2932\n",
      "\n",
      "credit_score column:\n",
      "850    233\n",
      "678     63\n",
      "655     54\n",
      "705     53\n",
      "667     53\n",
      "      ... \n",
      "419      1\n",
      "417      1\n",
      "373      1\n",
      "365      1\n",
      "401      1\n",
      "Name: credit_score, Length: 460, dtype: int64\n",
      "\n",
      "The number of unique value is: 460\n",
      "\n",
      "geography column:\n",
      "France     5014\n",
      "Germany    2509\n",
      "Spain      2477\n",
      "Name: geography, dtype: int64\n",
      "\n",
      "The number of unique value is: 3\n",
      "\n",
      "Going to Hot-Encode this column in the next step.\n",
      "\n",
      "gender column:\n",
      "Male      5457\n",
      "Female    4543\n",
      "Name: gender, dtype: int64\n",
      "\n",
      "The number of unique value is: 2\n",
      "\n",
      "Going to Hot-Encode this column in the next step.\n",
      "\n",
      "age column:\n",
      "37    478\n",
      "38    477\n",
      "35    474\n",
      "36    456\n",
      "34    447\n",
      "     ... \n",
      "92      2\n",
      "88      1\n",
      "82      1\n",
      "85      1\n",
      "83      1\n",
      "Name: age, Length: 70, dtype: int64\n",
      "\n",
      "The number of unique value is: 70\n",
      "\n",
      "tenure column:\n",
      "1.0     952\n",
      "2.0     950\n",
      "8.0     933\n",
      "3.0     928\n",
      "5.0     927\n",
      "7.0     925\n",
      "NaN     909\n",
      "4.0     885\n",
      "9.0     882\n",
      "6.0     881\n",
      "10.0    446\n",
      "0.0     382\n",
      "Name: tenure, dtype: int64\n",
      "\n",
      "The number of unique value is: 11\n",
      "\n",
      "909 NaN, I decided that I will impose all None values as zeros.\n",
      "\n",
      "balance column:\n",
      "0.00         3617\n",
      "105473.74       2\n",
      "130170.82       2\n",
      "113063.83       1\n",
      "80242.37        1\n",
      "             ... \n",
      "183555.24       1\n",
      "137648.41       1\n",
      "112689.95       1\n",
      "115465.28       1\n",
      "74681.90        1\n",
      "Name: balance, Length: 6382, dtype: int64\n",
      "\n",
      "The number of unique value is: 6382\n",
      "\n",
      "num_of_product column:\n",
      "1    5084\n",
      "2    4590\n",
      "3     266\n",
      "4      60\n",
      "Name: num_of_products, dtype: int64\n",
      "\n",
      "The number of unique value is: 4\n",
      "\n",
      "has_cr_card column:\n",
      "1    7055\n",
      "0    2945\n",
      "Name: has_cr_card, dtype: int64\n",
      "\n",
      "The number of unique value is: 2\n",
      "\n",
      "is_active_member column:\n",
      "1    5151\n",
      "0    4849\n",
      "Name: is_active_member, dtype: int64\n",
      "\n",
      "The number of unique value is: 2\n",
      "\n",
      "estimated_salary column:\n",
      "24924.92     2\n",
      "109029.72    1\n",
      "182025.95    1\n",
      "82820.85     1\n",
      "30314.04     1\n",
      "            ..\n",
      "158302.59    1\n",
      "171037.63    1\n",
      "43036.60     1\n",
      "55034.02     1\n",
      "104181.78    1\n",
      "Name: estimated_salary, Length: 9999, dtype: int64\n",
      "\n",
      "The number of unique value is: 9999\n",
      "\n",
      "exited column:\n",
      "0    7963\n",
      "1    2037\n",
      "Name: exited, dtype: int64\n",
      "\n",
      "The number of unique value is: 2\n"
     ]
    }
   ],
   "source": [
    "#Investigating columns values.\n",
    "#Customer_id column.\n",
    "print('customer_id column:')\n",
    "print(data.customer_id.value_counts(dropna=False))\n",
    "print()\n",
    "print('The number of unique value is:', data.customer_id.nunique())\n",
    "print()\n",
    "#Surname column.\n",
    "print('surname column:')\n",
    "print(data.surname.value_counts(dropna=False))\n",
    "print()\n",
    "print('The number of unique value is:', data.surname.nunique())\n",
    "print()\n",
    "#credit_score column.\n",
    "print('credit_score column:')\n",
    "print(data.credit_score.value_counts(dropna=False))\n",
    "print()\n",
    "print('The number of unique value is:', data.credit_score.nunique())\n",
    "print()\n",
    "#Geography column.\n",
    "print('geography column:')\n",
    "print(data.geography.value_counts(dropna=False))\n",
    "print()\n",
    "print('The number of unique value is:', data.geography.nunique())\n",
    "print()\n",
    "print('Going to Hot-Encode this column in the next step.')\n",
    "print()\n",
    "#Gender column.\n",
    "print('gender column:')\n",
    "print(data.gender.value_counts(dropna=False))\n",
    "print()\n",
    "print('The number of unique value is:', data.gender.nunique())\n",
    "print()\n",
    "print('Going to Hot-Encode this column in the next step.')\n",
    "print()\n",
    "#Age column.\n",
    "print('age column:')\n",
    "print(data.age.value_counts(dropna=False))\n",
    "print()\n",
    "print('The number of unique value is:', data.age.nunique())\n",
    "print()\n",
    "#Tenure column.\n",
    "print('tenure column:')\n",
    "print(data.tenure.value_counts(dropna=False))\n",
    "print()\n",
    "print('The number of unique value is:', data.tenure.nunique())\n",
    "print()\n",
    "print('909 NaN, I decided that I will impose all None values as zeros.')\n",
    "print()\n",
    "#Balance column.\n",
    "print('balance column:')\n",
    "print(data.balance.value_counts(dropna=False))\n",
    "print()\n",
    "print('The number of unique value is:', data.balance.nunique())\n",
    "print()\n",
    "#Nun_of_products column.\n",
    "print('num_of_product column:')\n",
    "print(data.num_of_products.value_counts(dropna=False))\n",
    "print()\n",
    "print('The number of unique value is:', data.num_of_products.nunique())\n",
    "print()\n",
    "#Has_CR_Card column.\n",
    "print('has_cr_card column:')\n",
    "print(data.has_cr_card.value_counts(dropna=False))\n",
    "print()\n",
    "print('The number of unique value is:', data.has_cr_card.nunique())\n",
    "print()\n",
    "#Is_active_member column.\n",
    "print('is_active_member column:')\n",
    "print(data.is_active_member.value_counts(dropna=False))\n",
    "print()\n",
    "print('The number of unique value is:', data.is_active_member.nunique())\n",
    "print()\n",
    "#Estimated_salary column.\n",
    "print('estimated_salary column:')\n",
    "print(data.estimated_salary.value_counts(dropna=False))\n",
    "print()\n",
    "print('The number of unique value is:', data.estimated_salary.nunique())\n",
    "print()\n",
    "#Exited column.\n",
    "print('exited column:')\n",
    "print(data.exited.value_counts(dropna=False))\n",
    "print()\n",
    "print('The number of unique value is:', data.exited.nunique())"
   ]
  },
  {
   "cell_type": "code",
   "execution_count": 19,
   "metadata": {
    "scrolled": true
   },
   "outputs": [
    {
     "name": "stdout",
     "output_type": "stream",
     "text": [
      "0.0     1291\n",
      "1.0      952\n",
      "2.0      950\n",
      "8.0      933\n",
      "3.0      928\n",
      "5.0      927\n",
      "7.0      925\n",
      "4.0      885\n",
      "9.0      882\n",
      "6.0      881\n",
      "10.0     446\n",
      "Name: tenure, dtype: int64\n"
     ]
    }
   ],
   "source": [
    "#Data preprocessing \n",
    "#Transforming NaN values in tenure column to zeros.\n",
    "data.tenure = data.tenure.fillna(0)\n",
    "print(data.tenure.value_counts(dropna=False))"
   ]
  },
  {
   "cell_type": "code",
   "execution_count": 20,
   "metadata": {},
   "outputs": [],
   "source": [
    "#One-Hot-Encoding of gender and geography columns.\n",
    "encoder = OrdinalEncoder()\n",
    "data_encoded = pd.DataFrame(encoder.fit_transform(data), columns=data.columns)\n",
    "data.gender = data_encoded.gender\n",
    "data.geography = data_encoded.geography\n",
    "data.gender = data.gender.astype('int16')\n",
    "data.geography = data.geography.astype('int16')"
   ]
  },
  {
   "cell_type": "code",
   "execution_count": 21,
   "metadata": {
    "scrolled": true
   },
   "outputs": [
    {
     "data": {
      "text/html": [
       "<div>\n",
       "<style scoped>\n",
       "    .dataframe tbody tr th:only-of-type {\n",
       "        vertical-align: middle;\n",
       "    }\n",
       "\n",
       "    .dataframe tbody tr th {\n",
       "        vertical-align: top;\n",
       "    }\n",
       "\n",
       "    .dataframe thead th {\n",
       "        text-align: right;\n",
       "    }\n",
       "</style>\n",
       "<table border=\"1\" class=\"dataframe\">\n",
       "  <thead>\n",
       "    <tr style=\"text-align: right;\">\n",
       "      <th></th>\n",
       "      <th>customer_id</th>\n",
       "      <th>surname</th>\n",
       "      <th>credit_score</th>\n",
       "      <th>geography</th>\n",
       "      <th>gender</th>\n",
       "      <th>age</th>\n",
       "      <th>tenure</th>\n",
       "      <th>balance</th>\n",
       "      <th>num_of_products</th>\n",
       "      <th>has_cr_card</th>\n",
       "      <th>is_active_member</th>\n",
       "      <th>estimated_salary</th>\n",
       "      <th>exited</th>\n",
       "    </tr>\n",
       "  </thead>\n",
       "  <tbody>\n",
       "    <tr>\n",
       "      <td>0</td>\n",
       "      <td>15634602</td>\n",
       "      <td>Hargrave</td>\n",
       "      <td>619</td>\n",
       "      <td>0</td>\n",
       "      <td>0</td>\n",
       "      <td>42</td>\n",
       "      <td>2.0</td>\n",
       "      <td>0.00</td>\n",
       "      <td>1</td>\n",
       "      <td>1</td>\n",
       "      <td>1</td>\n",
       "      <td>101348.88</td>\n",
       "      <td>1</td>\n",
       "    </tr>\n",
       "    <tr>\n",
       "      <td>1</td>\n",
       "      <td>15647311</td>\n",
       "      <td>Hill</td>\n",
       "      <td>608</td>\n",
       "      <td>2</td>\n",
       "      <td>0</td>\n",
       "      <td>41</td>\n",
       "      <td>1.0</td>\n",
       "      <td>83807.86</td>\n",
       "      <td>1</td>\n",
       "      <td>0</td>\n",
       "      <td>1</td>\n",
       "      <td>112542.58</td>\n",
       "      <td>0</td>\n",
       "    </tr>\n",
       "    <tr>\n",
       "      <td>2</td>\n",
       "      <td>15619304</td>\n",
       "      <td>Onio</td>\n",
       "      <td>502</td>\n",
       "      <td>0</td>\n",
       "      <td>0</td>\n",
       "      <td>42</td>\n",
       "      <td>8.0</td>\n",
       "      <td>159660.80</td>\n",
       "      <td>3</td>\n",
       "      <td>1</td>\n",
       "      <td>0</td>\n",
       "      <td>113931.57</td>\n",
       "      <td>1</td>\n",
       "    </tr>\n",
       "    <tr>\n",
       "      <td>3</td>\n",
       "      <td>15701354</td>\n",
       "      <td>Boni</td>\n",
       "      <td>699</td>\n",
       "      <td>0</td>\n",
       "      <td>0</td>\n",
       "      <td>39</td>\n",
       "      <td>1.0</td>\n",
       "      <td>0.00</td>\n",
       "      <td>2</td>\n",
       "      <td>0</td>\n",
       "      <td>0</td>\n",
       "      <td>93826.63</td>\n",
       "      <td>0</td>\n",
       "    </tr>\n",
       "    <tr>\n",
       "      <td>4</td>\n",
       "      <td>15737888</td>\n",
       "      <td>Mitchell</td>\n",
       "      <td>850</td>\n",
       "      <td>2</td>\n",
       "      <td>0</td>\n",
       "      <td>43</td>\n",
       "      <td>2.0</td>\n",
       "      <td>125510.82</td>\n",
       "      <td>1</td>\n",
       "      <td>1</td>\n",
       "      <td>1</td>\n",
       "      <td>79084.10</td>\n",
       "      <td>0</td>\n",
       "    </tr>\n",
       "    <tr>\n",
       "      <td>...</td>\n",
       "      <td>...</td>\n",
       "      <td>...</td>\n",
       "      <td>...</td>\n",
       "      <td>...</td>\n",
       "      <td>...</td>\n",
       "      <td>...</td>\n",
       "      <td>...</td>\n",
       "      <td>...</td>\n",
       "      <td>...</td>\n",
       "      <td>...</td>\n",
       "      <td>...</td>\n",
       "      <td>...</td>\n",
       "      <td>...</td>\n",
       "    </tr>\n",
       "    <tr>\n",
       "      <td>9995</td>\n",
       "      <td>15606229</td>\n",
       "      <td>Obijiaku</td>\n",
       "      <td>771</td>\n",
       "      <td>0</td>\n",
       "      <td>1</td>\n",
       "      <td>39</td>\n",
       "      <td>5.0</td>\n",
       "      <td>0.00</td>\n",
       "      <td>2</td>\n",
       "      <td>1</td>\n",
       "      <td>0</td>\n",
       "      <td>96270.64</td>\n",
       "      <td>0</td>\n",
       "    </tr>\n",
       "    <tr>\n",
       "      <td>9996</td>\n",
       "      <td>15569892</td>\n",
       "      <td>Johnstone</td>\n",
       "      <td>516</td>\n",
       "      <td>0</td>\n",
       "      <td>1</td>\n",
       "      <td>35</td>\n",
       "      <td>10.0</td>\n",
       "      <td>57369.61</td>\n",
       "      <td>1</td>\n",
       "      <td>1</td>\n",
       "      <td>1</td>\n",
       "      <td>101699.77</td>\n",
       "      <td>0</td>\n",
       "    </tr>\n",
       "    <tr>\n",
       "      <td>9997</td>\n",
       "      <td>15584532</td>\n",
       "      <td>Liu</td>\n",
       "      <td>709</td>\n",
       "      <td>0</td>\n",
       "      <td>0</td>\n",
       "      <td>36</td>\n",
       "      <td>7.0</td>\n",
       "      <td>0.00</td>\n",
       "      <td>1</td>\n",
       "      <td>0</td>\n",
       "      <td>1</td>\n",
       "      <td>42085.58</td>\n",
       "      <td>1</td>\n",
       "    </tr>\n",
       "    <tr>\n",
       "      <td>9998</td>\n",
       "      <td>15682355</td>\n",
       "      <td>Sabbatini</td>\n",
       "      <td>772</td>\n",
       "      <td>1</td>\n",
       "      <td>1</td>\n",
       "      <td>42</td>\n",
       "      <td>3.0</td>\n",
       "      <td>75075.31</td>\n",
       "      <td>2</td>\n",
       "      <td>1</td>\n",
       "      <td>0</td>\n",
       "      <td>92888.52</td>\n",
       "      <td>1</td>\n",
       "    </tr>\n",
       "    <tr>\n",
       "      <td>9999</td>\n",
       "      <td>15628319</td>\n",
       "      <td>Walker</td>\n",
       "      <td>792</td>\n",
       "      <td>0</td>\n",
       "      <td>0</td>\n",
       "      <td>28</td>\n",
       "      <td>0.0</td>\n",
       "      <td>130142.79</td>\n",
       "      <td>1</td>\n",
       "      <td>1</td>\n",
       "      <td>0</td>\n",
       "      <td>38190.78</td>\n",
       "      <td>0</td>\n",
       "    </tr>\n",
       "  </tbody>\n",
       "</table>\n",
       "<p>10000 rows × 13 columns</p>\n",
       "</div>"
      ],
      "text/plain": [
       "      customer_id    surname  credit_score  geography  gender  age  tenure  \\\n",
       "0        15634602   Hargrave           619          0       0   42     2.0   \n",
       "1        15647311       Hill           608          2       0   41     1.0   \n",
       "2        15619304       Onio           502          0       0   42     8.0   \n",
       "3        15701354       Boni           699          0       0   39     1.0   \n",
       "4        15737888   Mitchell           850          2       0   43     2.0   \n",
       "...           ...        ...           ...        ...     ...  ...     ...   \n",
       "9995     15606229   Obijiaku           771          0       1   39     5.0   \n",
       "9996     15569892  Johnstone           516          0       1   35    10.0   \n",
       "9997     15584532        Liu           709          0       0   36     7.0   \n",
       "9998     15682355  Sabbatini           772          1       1   42     3.0   \n",
       "9999     15628319     Walker           792          0       0   28     0.0   \n",
       "\n",
       "        balance  num_of_products  has_cr_card  is_active_member  \\\n",
       "0          0.00                1            1                 1   \n",
       "1      83807.86                1            0                 1   \n",
       "2     159660.80                3            1                 0   \n",
       "3          0.00                2            0                 0   \n",
       "4     125510.82                1            1                 1   \n",
       "...         ...              ...          ...               ...   \n",
       "9995       0.00                2            1                 0   \n",
       "9996   57369.61                1            1                 1   \n",
       "9997       0.00                1            0                 1   \n",
       "9998   75075.31                2            1                 0   \n",
       "9999  130142.79                1            1                 0   \n",
       "\n",
       "      estimated_salary  exited  \n",
       "0            101348.88       1  \n",
       "1            112542.58       0  \n",
       "2            113931.57       1  \n",
       "3             93826.63       0  \n",
       "4             79084.10       0  \n",
       "...                ...     ...  \n",
       "9995          96270.64       0  \n",
       "9996         101699.77       0  \n",
       "9997          42085.58       1  \n",
       "9998          92888.52       1  \n",
       "9999          38190.78       0  \n",
       "\n",
       "[10000 rows x 13 columns]"
      ]
     },
     "metadata": {},
     "output_type": "display_data"
    }
   ],
   "source": [
    "display(data)"
   ]
  },
  {
   "cell_type": "code",
   "execution_count": 22,
   "metadata": {},
   "outputs": [
    {
     "name": "stdout",
     "output_type": "stream",
     "text": [
      "[1 0 1 ... 1 1 0]\n",
      "\n",
      "10000\n"
     ]
    }
   ],
   "source": [
    "#Creating a target variable.\n",
    "y_true = data.exited.values\n",
    "\n",
    "#Printing how the variable itself + len of the variable.\n",
    "print(y_true)\n",
    "print()\n",
    "print(len(y_true)) #Should return the len of the starting dataframe."
   ]
  },
  {
   "cell_type": "markdown",
   "metadata": {},
   "source": [
    "# Brief summarize. Download and prepare the data.\n",
    "\n",
    "I open the Churn file, saving it in a DataFrame variable. The datataset is composed by:\n",
    "- RowNumber — data string index \n",
    "- CustomerId — unique customer identifier\n",
    "- Surname — surname\n",
    "- CreditScore — credit score\n",
    "- Geography — country of residence\n",
    "- Gender — gender\n",
    "- Age — age\n",
    "- Tenure — period of maturation for a customer’s fixed deposit (years)\n",
    "- Balance — account balance\n",
    "- NumOfProducts — number of banking products used by the customer\n",
    "- HasCrCard — customer has a credit card\n",
    "- IsActiveMember — customer’s activeness\n",
    "- EstimatedSalary — estimated salary\n",
    "- Exited — сustomer has left\n",
    "\n",
    "First thing I've done in the dataset was renaming columns in lowercases and removing RowNumber column, I don't need that since it's just the same as indexes. I don't want those values to distorce my analysis. My dataset dataframe has 10.000 rows and 13 columns, 0 duplicates and 909 NaN, they're all in 'tenure' column.\n",
    "\n",
    "The choice tooken in handling None values was assign them zeros, since they represent no interests.\n",
    "After that, I though was a good idea to encode gender and geography to consider them in the algorithim, in my opinion, those features can alterate the result even if sightly."
   ]
  },
  {
   "cell_type": "markdown",
   "metadata": {},
   "source": [
    "### Examine the balance of classes. Train the model without taking into account the imbalance. Briefly describe your findings."
   ]
  },
  {
   "cell_type": "code",
   "execution_count": 23,
   "metadata": {},
   "outputs": [
    {
     "name": "stdout",
     "output_type": "stream",
     "text": [
      "The number of non-exited customers is: 7963\n",
      "\n",
      "The number of exited customers is: 2037\n",
      "\n",
      "The percentage of non-exited customers is: 79.63 %\n",
      "\n",
      "The percentage of exited customers is: 20.369999999999997 %\n",
      "\n"
     ]
    }
   ],
   "source": [
    "#Examinate the interested target column.\n",
    "print('The number of non-exited customers is:', data.exited.loc[data.exited == 0].count())\n",
    "print()\n",
    "print('The number of exited customers is:', data.exited.loc[data.exited == 1].count())\n",
    "print()\n",
    "print('The percentage of non-exited customers is:', (len(data.exited.loc[data.exited == 0])/len(data.exited)*100),'%')\n",
    "print()\n",
    "print('The percentage of exited customers is:', (len(data.exited.loc[data.exited == 1])/len(data.exited)*100),'%')\n",
    "print()"
   ]
  },
  {
   "cell_type": "code",
   "execution_count": 24,
   "metadata": {
    "scrolled": true
   },
   "outputs": [
    {
     "data": {
      "image/png": "[encoded data removed]",
      "text/plain": [
       "<Figure size 720x288 with 1 Axes>"
      ]
     },
     "metadata": {
      "needs_background": "light"
     },
     "output_type": "display_data"
    }
   ],
   "source": [
    "#PLOTTING THE TARGET.\n",
    "count_target = pd.value_counts(data.exited, sort=True)\n",
    "plt.figure(figsize=(10,4))\n",
    "count_target.plot(kind='bar', rot=0)\n",
    "plt.title('Exited customers.')\n",
    "plt.xlabel('Exited')\n",
    "plt.ylabel('Frequency')\n",
    "plt.show()"
   ]
  },
  {
   "cell_type": "code",
   "execution_count": 25,
   "metadata": {},
   "outputs": [
    {
     "name": "stdout",
     "output_type": "stream",
     "text": [
      "(2037, 13)\n",
      "(7963, 13)\n"
     ]
    }
   ],
   "source": [
    "#Understanding the shape of the imbalance.\n",
    "exited = data[data['exited']==1]\n",
    "non_exited = data[data['exited']==0]\n",
    "print(exited.shape)\n",
    "print(non_exited.shape)"
   ]
  },
  {
   "cell_type": "code",
   "execution_count": 26,
   "metadata": {},
   "outputs": [],
   "source": [
    "# Splitting the data into train and test.\n",
    "data_train, data_test = train_test_split(data, stratify=y_true, test_size=0.2, random_state=80)\n",
    "#Splitting the training dataset into train validation and cross validation.\n",
    "data_train, data_valid = train_test_split(data_train, test_size=0.25, random_state=80)"
   ]
  },
  {
   "cell_type": "code",
   "execution_count": 27,
   "metadata": {},
   "outputs": [
    {
     "name": "stdout",
     "output_type": "stream",
     "text": [
      "Number of records in training dataset: 6000\n",
      "Number of records in cross validation dataset: 2000\n",
      "Number of records in the test dataset: 2000\n",
      "\n",
      "Train and Cross validation dataset are going to be used to build the model itself.\n",
      "Test is going to check the accuracy of our model output.\n"
     ]
    }
   ],
   "source": [
    "print('Number of records in training dataset:', data_train.shape[0])\n",
    "print('Number of records in cross validation dataset:', data_valid.shape[0])\n",
    "print('Number of records in the test dataset:', data_test.shape[0])\n",
    "print('')\n",
    "print('Train and Cross validation dataset are going to be used to build the model itself.')\n",
    "print('Test is going to check the accuracy of our model output.')"
   ]
  },
  {
   "cell_type": "code",
   "execution_count": 28,
   "metadata": {},
   "outputs": [
    {
     "name": "stdout",
     "output_type": "stream",
     "text": [
      "To make sure that our testing is going to have a positive result,\n",
      "We can save the column exited in a variable to be able, to compare that to the model results obtained.\n",
      "checking_values is an array with 2000 values.\n"
     ]
    }
   ],
   "source": [
    "print('To make sure that our testing is going to have a positive result,')\n",
    "print('We can save the column exited in a variable to be able, to compare that to the model results obtained.')\n",
    "\n",
    "checking_values = data_test.exited #This is going to become the array to check the accuracy of our model.\n",
    "\n",
    "print('checking_values is an array with', len(checking_values),'values.')"
   ]
  },
  {
   "cell_type": "code",
   "execution_count": 29,
   "metadata": {},
   "outputs": [],
   "source": [
    "#Creating features and targets for our model.\n",
    "features_train = data_train.drop(['exited','surname'], axis=1)\n",
    "target_train = data_train['exited']\n",
    "features_valid = data_valid.drop(['exited','surname'], axis=1)\n",
    "target_valid = data_valid['exited']\n",
    "features_test = data_test.drop(['exited','surname'], axis=1)\n",
    "target_test = data_test['exited']"
   ]
  },
  {
   "cell_type": "code",
   "execution_count": 30,
   "metadata": {
    "scrolled": true
   },
   "outputs": [
    {
     "name": "stdout",
     "output_type": "stream",
     "text": [
      "Train dataset:\n",
      "0    0.793\n",
      "1    0.207\n",
      "Name: exited, dtype: float64\n",
      "\n",
      "Validation dataset:\n",
      "0    0.806\n",
      "1    0.194\n",
      "Name: exited, dtype: float64\n",
      "\n",
      "Testing array:\n",
      "0    0.7965\n",
      "1    0.2035\n",
      "Name: exited, dtype: float64\n",
      "\n",
      "Our train, test and cv datasets, correspond almost perfectly to the whole dataset.\n"
     ]
    }
   ],
   "source": [
    "#Let's take a look to the distribution of is_ultra column in the three dataset.\n",
    "#The importance of this step, lies in the fact, that we should make sure, that everyone of our datasets (train,test,cv) \n",
    "#has at least a 17% of exited in it. Our initial rate of percentage is 80/20 (whole dataset)\n",
    "#Otherwise the prediction of our model are going to be distorted.\n",
    "#To change this split is just necessary changing random_state parameter in train_test_split function.\n",
    "\n",
    "train_exited_distribution = data_train['exited'].value_counts(normalize=True)\n",
    "cv_exited_distribution = data_valid['exited'].value_counts(normalize=True)\n",
    "test_exited_distribution =  checking_values.value_counts(normalize=True)\n",
    "\n",
    "print('Train dataset:')\n",
    "print(train_exited_distribution)\n",
    "print()\n",
    "print('Validation dataset:')\n",
    "print(cv_exited_distribution)\n",
    "print()\n",
    "print('Testing array:')\n",
    "print(test_exited_distribution)\n",
    "print()\n",
    "print('Our train, test and cv datasets, correspond almost perfectly to the whole dataset.')"
   ]
  },
  {
   "cell_type": "code",
   "execution_count": 31,
   "metadata": {},
   "outputs": [
    {
     "name": "stdout",
     "output_type": "stream",
     "text": [
      "Since we need a classification model, going to implement a Classifier model.\n",
      "\n",
      "Our choice is going to be one from DecisionTreeClassifier / RandomForestClassifier / LogisticRegression\n",
      "\n",
      "Since RFC has an higher accuracy then DTC, going to discard DecisionTreeClassifier from my choices.\n"
     ]
    }
   ],
   "source": [
    "print('Since we need a classification model, going to implement a Classifier model.')\n",
    "print()\n",
    "print('Our choice is going to be one from DecisionTreeClassifier / RandomForestClassifier / LogisticRegression')\n",
    "print()\n",
    "print('Since RFC has an higher accuracy then DTC, going to discard DecisionTreeClassifier from my choices.')"
   ]
  },
  {
   "cell_type": "code",
   "execution_count": 22,
   "metadata": {},
   "outputs": [
    {
     "name": "stdout",
     "output_type": "stream",
     "text": [
      "Logistic regression rmse: 0.4404543109109048\n",
      "Logistic regression accuracy: 0.806\n",
      "Logistic regression precision: 0.0\n",
      "Logistic regression recall: 0.0\n",
      "Logistic regression f1 score: 0.0\n"
     ]
    },
    {
     "name": "stderr",
     "output_type": "stream",
     "text": [
      "/opt/conda/lib/python3.7/site-packages/sklearn/metrics/classification.py:1437: UndefinedMetricWarning: F-score is ill-defined and being set to 0.0 due to no predicted samples.\n",
      "  'precision', 'predicted', average, warn_for)\n",
      "/opt/conda/lib/python3.7/site-packages/sklearn/metrics/classification.py:1437: UndefinedMetricWarning: Precision is ill-defined and being set to 0.0 due to no predicted samples.\n",
      "  'precision', 'predicted', average, warn_for)\n"
     ]
    }
   ],
   "source": [
    "#Training unbalanced dataset with LogisticRegression.\n",
    "#Finding accuracy values for LogisticRegression\n",
    "\n",
    "model = LogisticRegression(random_state=80, solver='liblinear', max_iter=100)\n",
    "model.fit(features_train, target_train) # < train the model >\n",
    "predictions_valid = model.predict(features_valid) \n",
    "\n",
    "acc_logistic = accuracy_score(target_valid, predictions_valid)\n",
    "rmse_logistic = mean_squared_error(target_valid, predictions_valid)**0.5\n",
    "f1_score_logistic = f1_score(target_valid, predictions_valid)\n",
    "precision_logistic = precision_score(target_valid, predictions_valid)\n",
    "recall_logistic = recall_score(target_valid, predictions_valid)\n",
    "print(\"Logistic regression rmse:\", rmse_logistic) \n",
    "print('Logistic regression accuracy:', acc_logistic)\n",
    "print('Logistic regression precision:', precision_logistic)\n",
    "print('Logistic regression recall:', recall_logistic)\n",
    "print('Logistic regression f1 score:',f1_score_logistic)"
   ]
  },
  {
   "cell_type": "code",
   "execution_count": 32,
   "metadata": {},
   "outputs": [
    {
     "name": "stdout",
     "output_type": "stream",
     "text": [
      "n_estimators = 10 Rmse: 0.3761648574760805\n",
      "n_estimators = 10 Accuracy: 0.8585\n",
      "n_estimators = 10 Precision: 0.7419354838709677\n",
      "n_estimators = 10 Recall: 0.41494845360824745\n",
      "n_estimators = 10 F1 Score: 0.5322314049586777\n",
      "\n",
      "n_estimators = 20 Rmse: 0.37080992435478316\n",
      "n_estimators = 20 Accuracy: 0.8625\n",
      "n_estimators = 20 Precision: 0.7627906976744186\n",
      "n_estimators = 20 Recall: 0.422680412371134\n",
      "n_estimators = 20 F1 Score: 0.5439469320066336\n",
      "\n",
      "n_estimators = 30 Rmse: 0.37013511046643494\n",
      "n_estimators = 30 Accuracy: 0.863\n",
      "n_estimators = 30 Precision: 0.7688679245283019\n",
      "n_estimators = 30 Recall: 0.42010309278350516\n",
      "n_estimators = 30 F1 Score: 0.5433333333333333\n",
      "\n",
      "n_estimators = 40 Rmse: 0.36810324638611924\n",
      "n_estimators = 40 Accuracy: 0.8645\n",
      "n_estimators = 40 Precision: 0.772093023255814\n",
      "n_estimators = 40 Recall: 0.42783505154639173\n",
      "n_estimators = 40 F1 Score: 0.550580431177446\n",
      "\n",
      "n_estimators = 50 Rmse: 0.36606010435446257\n",
      "n_estimators = 50 Accuracy: 0.866\n",
      "n_estimators = 50 Precision: 0.780373831775701\n",
      "n_estimators = 50 Recall: 0.43041237113402064\n",
      "n_estimators = 50 F1 Score: 0.5548172757475084\n",
      "\n",
      "n_estimators = 60 Rmse: 0.3646916505762094\n",
      "n_estimators = 60 Accuracy: 0.867\n",
      "n_estimators = 60 Precision: 0.7824074074074074\n",
      "n_estimators = 60 Recall: 0.43556701030927836\n",
      "n_estimators = 60 F1 Score: 0.5596026490066225\n",
      "\n",
      "n_estimators = 70 Rmse: 0.366742416417845\n",
      "n_estimators = 70 Accuracy: 0.8655\n",
      "n_estimators = 70 Precision: 0.7767441860465116\n",
      "n_estimators = 70 Recall: 0.43041237113402064\n",
      "n_estimators = 70 F1 Score: 0.5538971807628524\n",
      "\n",
      "n_estimators = 80 Rmse: 0.3687817782917155\n",
      "n_estimators = 80 Accuracy: 0.864\n",
      "n_estimators = 80 Precision: 0.7710280373831776\n",
      "n_estimators = 80 Recall: 0.4252577319587629\n",
      "n_estimators = 80 F1 Score: 0.5481727574750831\n",
      "\n",
      "n_estimators = 90 Rmse: 0.36606010435446257\n",
      "n_estimators = 90 Accuracy: 0.866\n",
      "n_estimators = 90 Precision: 0.7830188679245284\n",
      "n_estimators = 90 Recall: 0.42783505154639173\n",
      "n_estimators = 90 F1 Score: 0.5533333333333333\n",
      "\n",
      "The best possible accuracy obtained tuning this hyperparameter is : 0.867\n",
      "The best possible f1 score obtained tuning this hyperparameter is : 0.5596026490066225\n"
     ]
    }
   ],
   "source": [
    "# Training unbalanced dataset with RandomForestClassifier.\n",
    "#Finding Accuracy, precision, recall and f1 score for RandomForestClassifier, criterion=gini with random n_estimator\n",
    "acc_result=[]\n",
    "f1_result=[]\n",
    "\n",
    "for estim in range(10, 100, 10):\n",
    "        model = RandomForestClassifier(n_estimators=estim, max_depth=10, random_state=8)\n",
    "        model.fit(features_train, target_train) # < train the model >\n",
    "        predictions_valid = model.predict(features_valid) \n",
    "        # < write code here >\n",
    "        \n",
    "        acc = accuracy_score(target_valid, predictions_valid)\n",
    "        rmse = mean_squared_error(target_valid, predictions_valid)**0.5\n",
    "        precision = precision_score(target_valid, predictions_valid)\n",
    "        recall = recall_score(target_valid, predictions_valid)\n",
    "        f1 = f1_score(target_valid, predictions_valid)\n",
    "        print(\"n_estimators =\", estim, \"Rmse:\", rmse)\n",
    "        print('n_estimators =', estim, 'Accuracy:', acc)\n",
    "        print('n_estimators =', estim, 'Precision:', precision)\n",
    "        print('n_estimators =', estim, 'Recall:', recall)\n",
    "        print('n_estimators =', estim, 'F1 Score:', f1)\n",
    "        acc_result.append(acc)\n",
    "        f1_result.append(f1)\n",
    "        print()\n",
    "        \n",
    "print('The best possible accuracy obtained tuning this hyperparameter is :', max(acc_result))\n",
    "print('The best possible f1 score obtained tuning this hyperparameter is :', max(f1_result))"
   ]
  },
  {
   "cell_type": "code",
   "execution_count": 24,
   "metadata": {},
   "outputs": [
    {
     "name": "stdout",
     "output_type": "stream",
     "text": [
      "max_depth = 5 Rmse: 0.3721558813185679\n",
      "max_depth = 5 Accuracy: 0.8615\n",
      "max_depth = 5 Precision: 0.8404907975460123\n",
      "max_depth = 5 Recall: 0.35309278350515466\n",
      "max_depth = 5 F1 Score: 0.4972776769509982\n",
      "\n",
      "max_depth = 6 Rmse: 0.36606010435446257\n",
      "max_depth = 6 Accuracy: 0.866\n",
      "max_depth = 6 Precision: 0.8296703296703297\n",
      "max_depth = 6 Recall: 0.38917525773195877\n",
      "max_depth = 6 F1 Score: 0.5298245614035088\n",
      "\n",
      "max_depth = 7 Rmse: 0.3646916505762094\n",
      "max_depth = 7 Accuracy: 0.867\n",
      "max_depth = 7 Precision: 0.8112244897959183\n",
      "max_depth = 7 Recall: 0.4097938144329897\n",
      "max_depth = 7 F1 Score: 0.5445205479452054\n",
      "\n",
      "max_depth = 8 Rmse: 0.366742416417845\n",
      "max_depth = 8 Accuracy: 0.8655\n",
      "max_depth = 8 Precision: 0.7902439024390244\n",
      "max_depth = 8 Recall: 0.4175257731958763\n",
      "max_depth = 8 F1 Score: 0.5463743676222597\n",
      "\n",
      "max_depth = 9 Rmse: 0.366742416417845\n",
      "max_depth = 9 Accuracy: 0.8655\n",
      "max_depth = 9 Precision: 0.784688995215311\n",
      "max_depth = 9 Recall: 0.422680412371134\n",
      "max_depth = 9 F1 Score: 0.5494137353433836\n",
      "\n",
      "max_depth = 10 Rmse: 0.3646916505762094\n",
      "max_depth = 10 Accuracy: 0.867\n",
      "max_depth = 10 Precision: 0.7824074074074074\n",
      "max_depth = 10 Recall: 0.43556701030927836\n",
      "max_depth = 10 F1 Score: 0.5596026490066225\n",
      "\n",
      "max_depth = 11 Rmse: 0.3640054944640259\n",
      "max_depth = 11 Accuracy: 0.8675\n",
      "max_depth = 11 Precision: 0.7782805429864253\n",
      "max_depth = 11 Recall: 0.44329896907216493\n",
      "max_depth = 11 F1 Score: 0.5648604269293924\n",
      "\n",
      "max_depth = 12 Rmse: 0.37080992435478316\n",
      "max_depth = 12 Accuracy: 0.8625\n",
      "max_depth = 12 Precision: 0.7533632286995515\n",
      "max_depth = 12 Recall: 0.4329896907216495\n",
      "max_depth = 12 F1 Score: 0.5499181669394435\n",
      "\n",
      "max_depth = 13 Rmse: 0.3674234614174767\n",
      "max_depth = 13 Accuracy: 0.865\n",
      "max_depth = 13 Precision: 0.7657657657657657\n",
      "max_depth = 13 Recall: 0.4381443298969072\n",
      "max_depth = 13 F1 Score: 0.5573770491803278\n",
      "\n",
      "max_depth = 14 Rmse: 0.3674234614174767\n",
      "max_depth = 14 Accuracy: 0.865\n",
      "max_depth = 14 Precision: 0.7543103448275862\n",
      "max_depth = 14 Recall: 0.45103092783505155\n",
      "max_depth = 14 F1 Score: 0.564516129032258\n",
      "\n",
      "The best possible accuracy obtained tuning this hyperparameter is : 0.8675\n",
      "The best possible f1 score obtained tuning this hyperparameter is : 0.5648604269293924\n"
     ]
    }
   ],
   "source": [
    "# Training unbalanced dataset with RandomForestClassifier.\n",
    "#Finding Accuracy, precision, recall and f1 score for RandomForestClassifier, criterion=gini with random n_estimator\n",
    "acc_result=[]\n",
    "f1_result=[]\n",
    "\n",
    "for depth in range(5, 15):\n",
    "        model = RandomForestClassifier(n_estimators=60, max_depth=depth, random_state=8)\n",
    "        model.fit(features_train, target_train) # < train the model >\n",
    "        predictions_valid = model.predict(features_valid) \n",
    "        # < write code here >\n",
    "        \n",
    "        acc = accuracy_score(target_valid, predictions_valid)\n",
    "        rmse = mean_squared_error(target_valid, predictions_valid)**0.5\n",
    "        precision = precision_score(target_valid, predictions_valid)\n",
    "        recall = recall_score(target_valid, predictions_valid)\n",
    "        f1 = f1_score(target_valid, predictions_valid)\n",
    "        print(\"max_depth =\", depth, \"Rmse:\", rmse)\n",
    "        print('max_depth =', depth, 'Accuracy:', acc)\n",
    "        print('max_depth =', depth, 'Precision:', precision)\n",
    "        print('max_depth =', depth, 'Recall:', recall)\n",
    "        print('max_depth =', depth, 'F1 Score:', f1)\n",
    "        acc_result.append(acc)\n",
    "        f1_result.append(f1)\n",
    "        print()\n",
    "        \n",
    "print('The best possible accuracy obtained tuning this hyperparameter is :', max(acc_result))\n",
    "print('The best possible f1 score obtained tuning this hyperparameter is :', max(f1_result))"
   ]
  },
  {
   "cell_type": "code",
   "execution_count": 50,
   "metadata": {},
   "outputs": [
    {
     "name": "stdout",
     "output_type": "stream",
     "text": [
      "min_samples_leaf = 1 Rmse: 0.3640054944640259\n",
      "min_samples_leaf = 1 Accuracy: 0.8675\n",
      "min_samples_leaf = 1 Precision: 0.7782805429864253\n",
      "min_samples_leaf = 1 Recall: 0.44329896907216493\n",
      "min_samples_leaf = 1 F1 Score: 0.5648604269293924\n",
      "\n",
      "min_samples_leaf = 2 Rmse: 0.36262928728937494\n",
      "min_samples_leaf = 2 Accuracy: 0.8685\n",
      "min_samples_leaf = 2 Precision: 0.7828054298642534\n",
      "min_samples_leaf = 2 Recall: 0.44587628865979384\n",
      "min_samples_leaf = 2 F1 Score: 0.5681444991789819\n",
      "\n",
      "min_samples_leaf = 3 Rmse: 0.3687817782917155\n",
      "min_samples_leaf = 3 Accuracy: 0.864\n",
      "min_samples_leaf = 3 Precision: 0.7589285714285714\n",
      "min_samples_leaf = 3 Recall: 0.4381443298969072\n",
      "min_samples_leaf = 3 F1 Score: 0.5555555555555556\n",
      "\n",
      "min_samples_leaf = 4 Rmse: 0.36055512754639896\n",
      "min_samples_leaf = 4 Accuracy: 0.87\n",
      "min_samples_leaf = 4 Precision: 0.7990654205607477\n",
      "min_samples_leaf = 4 Recall: 0.44072164948453607\n",
      "min_samples_leaf = 4 F1 Score: 0.5681063122923589\n",
      "\n",
      "min_samples_leaf = 5 Rmse: 0.363318042491699\n",
      "min_samples_leaf = 5 Accuracy: 0.868\n",
      "min_samples_leaf = 5 Precision: 0.7844036697247706\n",
      "min_samples_leaf = 5 Recall: 0.44072164948453607\n",
      "min_samples_leaf = 5 F1 Score: 0.5643564356435643\n",
      "\n",
      "min_samples_leaf = 6 Rmse: 0.3687817782917155\n",
      "min_samples_leaf = 6 Accuracy: 0.864\n",
      "min_samples_leaf = 6 Precision: 0.7566371681415929\n",
      "min_samples_leaf = 6 Recall: 0.44072164948453607\n",
      "min_samples_leaf = 6 F1 Score: 0.5570032573289901\n",
      "\n",
      "min_samples_leaf = 7 Rmse: 0.366742416417845\n",
      "min_samples_leaf = 7 Accuracy: 0.8655\n",
      "min_samples_leaf = 7 Precision: 0.771689497716895\n",
      "min_samples_leaf = 7 Recall: 0.43556701030927836\n",
      "min_samples_leaf = 7 F1 Score: 0.556836902800659\n",
      "\n",
      "min_samples_leaf = 8 Rmse: 0.3646916505762094\n",
      "min_samples_leaf = 8 Accuracy: 0.867\n",
      "min_samples_leaf = 8 Precision: 0.7798165137614679\n",
      "min_samples_leaf = 8 Recall: 0.4381443298969072\n",
      "min_samples_leaf = 8 F1 Score: 0.5610561056105611\n",
      "\n",
      "min_samples_leaf = 9 Rmse: 0.3640054944640259\n",
      "min_samples_leaf = 9 Accuracy: 0.8675\n",
      "min_samples_leaf = 9 Precision: 0.7782805429864253\n",
      "min_samples_leaf = 9 Recall: 0.44329896907216493\n",
      "min_samples_leaf = 9 F1 Score: 0.5648604269293924\n",
      "\n",
      "The best possible accuracy obtained tuning this hyperparameter is : 0.87\n",
      "The best possible f1 score obtained tuning this hyperparameter is : 0.5681444991789819\n",
      "The best possible precision obtained tuning this hyperparameter is : 0.7990654205607477\n",
      "The best possible recall obtained tuning this hyperparameter is : 0.44587628865979384\n"
     ]
    }
   ],
   "source": [
    "# Training unbalanced dataset with RandomForestClassifier.\n",
    "#Finding Accuracy, precision, recall and f1 score for RandomForestClassifier, criterion=gini with random n_estimator\n",
    "acc_result=[]\n",
    "f1_result=[]\n",
    "precision_result=[]\n",
    "recall_result=[]\n",
    "\n",
    "for leafs_nodes in range(1,10):\n",
    "        model = RandomForestClassifier(n_estimators=60, max_depth=11, random_state=8, min_samples_leaf = leafs_nodes)\n",
    "        model.fit(features_train, target_train) # < train the model >\n",
    "        predictions_valid = model.predict(features_valid) \n",
    "        # < write code here >\n",
    "        \n",
    "        acc = accuracy_score(target_valid, predictions_valid)\n",
    "        rmse = mean_squared_error(target_valid, predictions_valid)**0.5\n",
    "        precision = precision_score(target_valid, predictions_valid)\n",
    "        recall = recall_score(target_valid, predictions_valid)\n",
    "        f1 = f1_score(target_valid, predictions_valid)\n",
    "        print(\"min_samples_leaf =\", leafs_nodes, \"Rmse:\", rmse)\n",
    "        print('min_samples_leaf =', leafs_nodes, 'Accuracy:', acc)\n",
    "        print('min_samples_leaf =', leafs_nodes, 'Precision:', precision)\n",
    "        print('min_samples_leaf =', leafs_nodes, 'Recall:', recall)\n",
    "        print('min_samples_leaf =', leafs_nodes, 'F1 Score:', f1)\n",
    "        acc_result.append(acc)\n",
    "        f1_result.append(f1)\n",
    "        precision_result.append(precision)\n",
    "        recall_result.append(recall)\n",
    "        print()\n",
    "        \n",
    "print('The best possible accuracy obtained tuning this hyperparameter is :', max(acc_result))\n",
    "print('The best possible f1 score obtained tuning this hyperparameter is :', max(f1_result))\n",
    "print('The best possible precision obtained tuning this hyperparameter is :', max(precision_result))\n",
    "print('The best possible recall obtained tuning this hyperparameter is :', max(recall_result))"
   ]
  },
  {
   "cell_type": "markdown",
   "metadata": {},
   "source": [
    "# Brief summirize. Eximine the balance and train the model.\n",
    "\n",
    "I analyzed the target in a better way. Giving some percentuals, we have an 79,63% of non-exited customers and 20,37% of exited. The rateo among classes is 4:1. The Dataframe is slightly unbalanced, is not that relevant but we can do something to improve this situation. With train_test_spli I choose to split the data into train, cross validation and test. I choose to assign 0.2 of the whole datatabase for test dataset and 0.25 of the 80% of training df remaining on the cross validation. Obtaining 6000 records in the training df, 2000 for cross validation and 2000 for testing df. Train and Cross validation dataset are going to be used to build the model itself. Test is going to check the accuracy of our predictions.\n",
    "After that, I choose the features of the model and the only column I decided to drop from features was surname. \n",
    "\n",
    "The training of the unbalanced model, returned me out 0.87 accuracy, 0.5681 f1 score, 0.7566 of precision and 0.4407 of recall."
   ]
  },
  {
   "cell_type": "markdown",
   "metadata": {},
   "source": [
    "### Improve the quality of the model. Make sure you use at least two approaches to fixing class imbalance. Use the training set to pick the best parameters. Train different models on training and validation sets. Find the best one."
   ]
  },
  {
   "cell_type": "code",
   "execution_count": 26,
   "metadata": {},
   "outputs": [
    {
     "name": "stdout",
     "output_type": "stream",
     "text": [
      "Rmse: 0.39433488306260706\n",
      "Accuracy: 0.8445\n",
      "Precision: 0.5945945945945946\n",
      "Recall: 0.6237113402061856\n",
      "F1 Score: 0.6088050314465409\n",
      "\n",
      "This parameter guarantees a better f1 score and recall at the expense of Accuracy and precision.\n",
      "\n",
      "Considered that in this exercise the value more important to us is f1 score,\n",
      "I will accept this decrease of accuracy and precision in favor of F1.\n"
     ]
    }
   ],
   "source": [
    "#Balancing class weight\n",
    "model_balanced = RandomForestClassifier(n_estimators=60, max_depth=11, random_state=8, min_samples_leaf = 4, class_weight='balanced')\n",
    "model_balanced.fit(features_train, target_train) # < train the model >\n",
    "predictions_valid = model_balanced.predict(features_valid)\n",
    "acc = accuracy_score(target_valid, predictions_valid)\n",
    "rmse = mean_squared_error(target_valid, predictions_valid)**0.5\n",
    "precision = precision_score(target_valid, predictions_valid)\n",
    "recall = recall_score(target_valid, predictions_valid)\n",
    "f1 = f1_score(target_valid, predictions_valid)\n",
    "print(\"Rmse:\", rmse)\n",
    "print('Accuracy:', acc)\n",
    "print('Precision:', precision)\n",
    "print('Recall:', recall)\n",
    "print('F1 Score:', f1)\n",
    "print()\n",
    "print('This parameter guarantees a better f1 score and recall at the expense of Accuracy and precision.')\n",
    "print()\n",
    "print('Considered that in this exercise the value more important to us is f1 score,\\nI will accept this decrease of accuracy and precision in favor of F1.')"
   ]
  },
  {
   "cell_type": "code",
   "execution_count": 27,
   "metadata": {},
   "outputs": [
    {
     "name": "stdout",
     "output_type": "stream",
     "text": [
      "(3621, 11)\n",
      "(3621,)\n"
     ]
    }
   ],
   "source": [
    "#Balancing dataset. Undersampling to handle the imbalance.\n",
    "from sklearn.utils import shuffle\n",
    "\n",
    "def downsample(features, target, fraction):\n",
    "    features_zeros = features[target == 0]\n",
    "    features_ones = features[target == 1]\n",
    "    target_zeros = target[target == 0]\n",
    "    target_ones = target[target == 1]\n",
    "\n",
    "    features_downsampled = pd.concat(\n",
    "        [features_zeros.sample(frac=fraction, random_state=80)] + [features_ones]\n",
    "    )\n",
    "    target_downsampled = pd.concat(\n",
    "        [target_zeros.sample(frac=fraction, random_state=80)] + [target_ones]\n",
    "    )\n",
    "\n",
    "    features_downsampled, target_downsampled = shuffle(\n",
    "        features_downsampled, target_downsampled, random_state=80\n",
    "    )\n",
    "\n",
    "    return features_downsampled, target_downsampled\n",
    "\n",
    "\n",
    "features_downsampled, target_downsampled = downsample(\n",
    "    features_train, target_train, 0.50\n",
    ")\n",
    "\n",
    "print(features_downsampled.shape)\n",
    "print(target_downsampled.shape)"
   ]
  },
  {
   "cell_type": "code",
   "execution_count": 28,
   "metadata": {},
   "outputs": [
    {
     "name": "stdout",
     "output_type": "stream",
     "text": [
      "(8484, 11)\n",
      "(8484,)\n"
     ]
    }
   ],
   "source": [
    "#Balancing dataset. Upsampling to handle the imbalance.\n",
    "def upsample(features, target, repeat):\n",
    "    features_zeros = features[target == 0]\n",
    "    features_ones = features[target == 1]\n",
    "    target_zeros = target[target == 0]\n",
    "    target_ones = target[target == 1]\n",
    "\n",
    "    features_upsampled = pd.concat([features_zeros] + ([features_ones] * repeat))\n",
    "    target_upsampled = pd.concat([target_zeros] + ([target_ones] * repeat))\n",
    "\n",
    "    features_upsampled, target_upsampled = shuffle(\n",
    "        features_upsampled, target_upsampled, random_state=80\n",
    "    )\n",
    "\n",
    "    return features_upsampled, target_upsampled\n",
    "\n",
    "\n",
    "features_upsampled, target_upsampled = upsample(\n",
    "    features_train, target_train, 3\n",
    ")\n",
    "\n",
    "print(features_upsampled.shape)\n",
    "print(target_upsampled.shape)"
   ]
  },
  {
   "cell_type": "code",
   "execution_count": 29,
   "metadata": {},
   "outputs": [
    {
     "name": "stdout",
     "output_type": "stream",
     "text": [
      "Rmse: 0.3761648574760805\n",
      "Accuracy: 0.8585\n",
      "Precision: 0.6567164179104478\n",
      "Recall: 0.5670103092783505\n",
      "F1 Score: 0.6085753803596128\n"
     ]
    }
   ],
   "source": [
    "#Model with Downsampled features and target.\n",
    "model_downsampled = RandomForestClassifier(n_estimators=60, max_depth=10, random_state=80)\n",
    "model_downsampled.fit(features_downsampled, target_downsampled) # < train the model >\n",
    "predictions_valid = model_downsampled.predict(features_valid) \n",
    "\n",
    "acc = accuracy_score(target_valid, predictions_valid)\n",
    "rmse = mean_squared_error(target_valid, predictions_valid)**0.5\n",
    "precision = precision_score(target_valid, predictions_valid)\n",
    "recall = recall_score(target_valid, predictions_valid)\n",
    "f1 = f1_score(target_valid, predictions_valid)\n",
    "print(\"Rmse:\", rmse)\n",
    "print('Accuracy:', acc)\n",
    "print('Precision:', precision)\n",
    "print('Recall:', recall)\n",
    "print('F1 Score:', f1)"
   ]
  },
  {
   "cell_type": "code",
   "execution_count": 30,
   "metadata": {},
   "outputs": [
    {
     "name": "stdout",
     "output_type": "stream",
     "text": [
      "Rmse: 0.4080441152620633\n",
      "Accuracy: 0.8335\n",
      "Precision: 0.559652928416486\n",
      "Recall: 0.6649484536082474\n",
      "F1 Score: 0.6077738515901059\n"
     ]
    }
   ],
   "source": [
    "#Model with upsampled features and target.\n",
    "model_upsampled = RandomForestClassifier(n_estimators=60, max_depth=11, random_state=8, min_samples_leaf = 4, class_weight='balanced')\n",
    "model_upsampled.fit(features_upsampled, target_upsampled) # < train the model >\n",
    "predictions_valid = model_upsampled.predict(features_valid) \n",
    "\n",
    "acc = accuracy_score(target_valid, predictions_valid)\n",
    "rmse = mean_squared_error(target_valid, predictions_valid)**0.5\n",
    "precision = precision_score(target_valid, predictions_valid)\n",
    "recall = recall_score(target_valid, predictions_valid)\n",
    "f1 = f1_score(target_valid, predictions_valid)\n",
    "print(\"Rmse:\", rmse)\n",
    "print('Accuracy:', acc)\n",
    "print('Precision:', precision)\n",
    "print('Recall:', recall)\n",
    "print('F1 Score:', f1)"
   ]
  },
  {
   "cell_type": "code",
   "execution_count": 31,
   "metadata": {},
   "outputs": [
    {
     "data": {
      "image/png": "[encoded data removed]",
      "text/plain": [
       "<Figure size 720x288 with 1 Axes>"
      ]
     },
     "metadata": {
      "needs_background": "light"
     },
     "output_type": "display_data"
    }
   ],
   "source": [
    "#ROC curve - Upsampled model.\n",
    "probabilities_valid = model_upsampled.predict_proba(features_valid)\n",
    "probabilities_one_valid = probabilities_valid[:, 1]\n",
    "\n",
    "fpr, tpr, thresholds = roc_curve(target_valid, probabilities_one_valid) # < write code here >\n",
    "\n",
    "plt.figure(figsize=(10,4))\n",
    "plt.plot(fpr, tpr)\n",
    "plt.plot([0, 1], [0, 1], linestyle='--')\n",
    "plt.xlim([0.0, 1.0])\n",
    "plt.ylim([0.0, 1.0])\n",
    "plt.xlabel('False Positive Rate', fontsize=12)\n",
    "plt.ylabel('True Positive Rate', fontsize=12)\n",
    "plt.title('ROC Curve - Upsampled model', fontsize=16)\n",
    "plt.show()"
   ]
  },
  {
   "cell_type": "code",
   "execution_count": 32,
   "metadata": {},
   "outputs": [
    {
     "name": "stdout",
     "output_type": "stream",
     "text": [
      "AUC ROC: 0.8492140134557826\n"
     ]
    }
   ],
   "source": [
    "#Area Under Curve ROC score - Upsampled model\n",
    "auc_roc = roc_auc_score(target_valid, probabilities_one_valid)\n",
    "print('AUC ROC:',auc_roc)"
   ]
  },
  {
   "cell_type": "code",
   "execution_count": 33,
   "metadata": {},
   "outputs": [
    {
     "data": {
      "image/png": "[encoded data removed]",
      "text/plain": [
       "<Figure size 720x288 with 1 Axes>"
      ]
     },
     "metadata": {
      "needs_background": "light"
     },
     "output_type": "display_data"
    }
   ],
   "source": [
    "#Precision-Recall Curve.\n",
    "precision, recall, thresholds = precision_recall_curve(\n",
    "    target_valid, probabilities_valid[:, 1]\n",
    ")\n",
    "\n",
    "plt.figure(figsize=(10, 4))\n",
    "plt.step(recall, precision, where='post')\n",
    "plt.xlabel('Recall', fontsize=12)\n",
    "plt.ylabel('Precision', fontsize=12)\n",
    "plt.ylim([0.0, 1.05])\n",
    "plt.xlim([0.0, 1.0])\n",
    "plt.title('Precision-Recall Curve - Upsampled model', fontsize=16)\n",
    "plt.show() "
   ]
  },
  {
   "cell_type": "code",
   "execution_count": 34,
   "metadata": {},
   "outputs": [
    {
     "data": {
      "image/png": "[encoded data removed]",
      "text/plain": [
       "<Figure size 720x288 with 1 Axes>"
      ]
     },
     "metadata": {
      "needs_background": "light"
     },
     "output_type": "display_data"
    }
   ],
   "source": [
    "#ROC curve - Downsampled model\n",
    "probabilities_valid = model_downsampled.predict_proba(features_valid)\n",
    "probabilities_one_valid = probabilities_valid[:, 1]\n",
    "\n",
    "fpr, tpr, thresholds = roc_curve(target_valid, probabilities_one_valid) # < write code here >\n",
    "\n",
    "plt.figure(figsize=(10,4))\n",
    "plt.plot(fpr, tpr)\n",
    "plt.plot([0, 1], [0, 1], linestyle='--')\n",
    "plt.xlim([0.0, 1.0])\n",
    "plt.ylim([0.0, 1.0])\n",
    "plt.xlabel('False Positive Rate', fontsize=12)\n",
    "plt.ylabel('True Positive Rate', fontsize=12)\n",
    "plt.title('ROC Curve - Downsampled model', fontsize=16)\n",
    "plt.show()"
   ]
  },
  {
   "cell_type": "code",
   "execution_count": 35,
   "metadata": {},
   "outputs": [
    {
     "name": "stdout",
     "output_type": "stream",
     "text": [
      "AUC ROC: 0.8515850835230615\n"
     ]
    }
   ],
   "source": [
    "#Area Under Curve ROC score - Downsampled model\n",
    "auc_roc = roc_auc_score(target_valid, probabilities_one_valid)\n",
    "print('AUC ROC:',auc_roc)"
   ]
  },
  {
   "cell_type": "code",
   "execution_count": 36,
   "metadata": {},
   "outputs": [
    {
     "data": {
      "image/png": "[encoded data removed]",
      "text/plain": [
       "<Figure size 720x288 with 1 Axes>"
      ]
     },
     "metadata": {
      "needs_background": "light"
     },
     "output_type": "display_data"
    }
   ],
   "source": [
    "#Precision-Recall Curve.\n",
    "precision, recall, thresholds = precision_recall_curve(\n",
    "    target_valid, probabilities_valid[:, 1]\n",
    ")\n",
    "\n",
    "plt.figure(figsize=(10, 4))\n",
    "plt.step(recall, precision, where='post')\n",
    "plt.xlabel('Recall', fontsize=12)\n",
    "plt.ylabel('Precision', fontsize=12)\n",
    "plt.ylim([0.0, 1.05])\n",
    "plt.xlim([0.0, 1.0])\n",
    "plt.title('Precision-Recall Curve - Downsampled model', fontsize=16)\n",
    "plt.show() "
   ]
  },
  {
   "cell_type": "code",
   "execution_count": 37,
   "metadata": {},
   "outputs": [
    {
     "data": {
      "image/png": "[encoded data removed]",
      "text/plain": [
       "<Figure size 720x288 with 1 Axes>"
      ]
     },
     "metadata": {
      "needs_background": "light"
     },
     "output_type": "display_data"
    }
   ],
   "source": [
    "#ROC curve - Balanced model\n",
    "probabilities_valid = model_balanced.predict_proba(features_valid)\n",
    "probabilities_one_valid = probabilities_valid[:, 1]\n",
    "\n",
    "fpr, tpr, thresholds = roc_curve(target_valid, probabilities_one_valid) # < write code here >\n",
    "\n",
    "plt.figure(figsize=(10,4))\n",
    "plt.plot(fpr, tpr)\n",
    "plt.plot([0, 1], [0, 1], linestyle='--')\n",
    "plt.xlim([0.0, 1.0])\n",
    "plt.ylim([0.0, 1.0])\n",
    "plt.xlabel('False Positive Rate', fontsize=12)\n",
    "plt.ylabel('True Positive Rate', fontsize=12)\n",
    "plt.title('ROC Curve - Balanced model', fontsize=16)\n",
    "plt.show()"
   ]
  },
  {
   "cell_type": "code",
   "execution_count": 38,
   "metadata": {},
   "outputs": [
    {
     "name": "stdout",
     "output_type": "stream",
     "text": [
      "AUC ROC: 0.8538010667417053\n"
     ]
    }
   ],
   "source": [
    "#Area Under Curve ROC score - Balanced model\n",
    "auc_roc = roc_auc_score(target_valid, probabilities_one_valid)\n",
    "print('AUC ROC:',auc_roc)"
   ]
  },
  {
   "cell_type": "code",
   "execution_count": 39,
   "metadata": {},
   "outputs": [
    {
     "data": {
      "image/png": "[encoded data removed]",
      "text/plain": [
       "<Figure size 720x288 with 1 Axes>"
      ]
     },
     "metadata": {
      "needs_background": "light"
     },
     "output_type": "display_data"
    }
   ],
   "source": [
    "#Precision-Recall Curve.\n",
    "precision, recall, thresholds = precision_recall_curve(\n",
    "    target_valid, probabilities_valid[:, 1]\n",
    ")\n",
    "\n",
    "plt.figure(figsize=(10, 4))\n",
    "plt.step(recall, precision, where='post')\n",
    "plt.xlabel('Recall', fontsize=12)\n",
    "plt.ylabel('Precision', fontsize=12)\n",
    "plt.ylim([0.0, 1.05])\n",
    "plt.xlim([0.0, 1.0])\n",
    "plt.title('Precision-Recall Curve - Downsampled model', fontsize=16)\n",
    "plt.show() "
   ]
  },
  {
   "cell_type": "markdown",
   "metadata": {},
   "source": [
    "# Brief summarize. Improve the quality of the model.\n",
    "\n",
    "I decided to choose three way to fix the class imbalance: upsampling, downsamplig and class_weight 'balanced'.\n",
    "Without non that much efford, I was able to accomplish a 0.6 of f1 score for each of them. I choose to draw ROC curve and Precision-Recall curve for each of those models. Accomplishing an 84/85% of area under the ROC curve for each of them.\n",
    "\n",
    "In this phase I decided to don't choose just one model, since I wanted to check in a better way the predictions of the models, drawing a confusion matrix for each of them. Since they looks like to be really similar, only the confusion matrix can tell us wich is better."
   ]
  },
  {
   "cell_type": "markdown",
   "metadata": {},
   "source": [
    "### Perform the final testing."
   ]
  },
  {
   "cell_type": "code",
   "execution_count": 40,
   "metadata": {},
   "outputs": [
    {
     "name": "stdout",
     "output_type": "stream",
     "text": [
      "Test: 0.833\n",
      "Train: 0.927\n",
      "\n",
      "This model, obtained an 83,3% accuracy on test dataset, while 92,7% on the trained dataset.\n"
     ]
    }
   ],
   "source": [
    "#Testing the models. - Upsampled model testing\n",
    "upsampled_predictions_test = model_upsampled.predict(features_test)\n",
    "print(f'Test: {model_upsampled.score(features_test, target_test):.3f}')\n",
    "print(f'Train: {model_upsampled.score(features_train, target_train):.3f}')\n",
    "print()\n",
    "print('This model, obtained an 83,3% accuracy on test dataset, while 92,7% on the trained dataset.')"
   ]
  },
  {
   "cell_type": "code",
   "execution_count": 41,
   "metadata": {},
   "outputs": [
    {
     "name": "stdout",
     "output_type": "stream",
     "text": [
      "Test: 0.857\n",
      "Train: 0.914\n",
      "\n",
      "This model, obtained an 85,7% accuracy on test dataset, while 91,4% on the trained dataset.\n"
     ]
    }
   ],
   "source": [
    "#Testing the models. - Downsampled model testing\n",
    "downsampled_predictions_test = model_downsampled.predict(features_test)\n",
    "print(f'Test: {model_downsampled.score(features_test, target_test):.3f}')\n",
    "print(f'Train: {model_downsampled.score(features_train, target_train):.3f}')\n",
    "print()\n",
    "print('This model, obtained an 85,7% accuracy on test dataset, while 91,4% on the trained dataset.')"
   ]
  },
  {
   "cell_type": "code",
   "execution_count": 42,
   "metadata": {},
   "outputs": [
    {
     "name": "stdout",
     "output_type": "stream",
     "text": [
      "Test: 0.848\n",
      "Train: 0.919\n",
      "\n",
      "This model, obtained an 84,8% accuracy on test dataset, while 91,9% on the trained dataset.\n"
     ]
    }
   ],
   "source": [
    "#Testing the models. - Balanced model testing\n",
    "balanced_predictions_test = model_downsampled.predict(features_test)\n",
    "print(f'Test: {model_balanced.score(features_test, target_test):.3f}')\n",
    "print(f'Train: {model_balanced.score(features_train, target_train):.3f}')\n",
    "print()\n",
    "print('This model, obtained an 84,8% accuracy on test dataset, while 91,9% on the trained dataset.')"
   ]
  },
  {
   "cell_type": "code",
   "execution_count": 43,
   "metadata": {},
   "outputs": [
    {
     "name": "stdout",
     "output_type": "stream",
     "text": [
      "Confusion Matrice - Upsampled model.\n",
      "\n",
      "[[1401  192]\n",
      " [ 143  264]]\n",
      "\n",
      "True positive: 264\n",
      "False positive: 143\n",
      "False negative: 192\n",
      "True negative: 1401\n",
      "\n",
      "Exact results= 1665\n",
      "Wrong results= 335\n"
     ]
    }
   ],
   "source": [
    "#Creating a confusion matrice upsampled model.\n",
    "print('Confusion Matrice - Upsampled model.')\n",
    "print()\n",
    "cm = confusion_matrix(target_test, upsampled_predictions_test)\n",
    "print(cm)\n",
    "print()\n",
    "#Extracting TruePositive, FalsePositive, FalseNegative and TrueNegative from our confusion matrice.\n",
    "tn, fn, fp, tp = confusion_matrix(target_test, upsampled_predictions_test).ravel()\n",
    "print('True positive:', tp)\n",
    "print('False positive:', fp)\n",
    "print('False negative:', fn)\n",
    "print('True negative:', tn)\n",
    "print()\n",
    "exact = tp + tn\n",
    "wrong = fp + fn\n",
    "print('Exact results=',exact)\n",
    "print('Wrong results=',wrong)"
   ]
  },
  {
   "cell_type": "code",
   "execution_count": 44,
   "metadata": {},
   "outputs": [
    {
     "name": "stdout",
     "output_type": "stream",
     "text": [
      "Confusion Matrice - Downsampled model.\n",
      "\n",
      "[[1491  102]\n",
      " [ 185  222]]\n",
      "\n",
      "True positive: 222\n",
      "False positive: 185\n",
      "False negative: 102\n",
      "True negative: 1491\n",
      "\n",
      "Exact results= 1713\n",
      "Wrong results= 287\n"
     ]
    }
   ],
   "source": [
    "#Creating a confusion matrice downsampled model.\n",
    "print('Confusion Matrice - Downsampled model.')\n",
    "print()\n",
    "cm = confusion_matrix(target_test, downsampled_predictions_test)\n",
    "print(cm)\n",
    "print()\n",
    "#Extracting TruePositive, FalsePositive, FalseNegative and TrueNegative from our confusion matrice.\n",
    "tn, fn, fp, tp = confusion_matrix(target_test, downsampled_predictions_test).ravel()\n",
    "print('True positive:', tp)\n",
    "print('False positive:', fp)\n",
    "print('False negative:', fn)\n",
    "print('True negative:', tn)\n",
    "print()\n",
    "exact = tp + tn\n",
    "wrong = fp + fn\n",
    "print('Exact results=',exact)\n",
    "print('Wrong results=',wrong)"
   ]
  },
  {
   "cell_type": "code",
   "execution_count": 45,
   "metadata": {},
   "outputs": [
    {
     "name": "stdout",
     "output_type": "stream",
     "text": [
      "Confusion Matrice - Balanced model.\n",
      "\n",
      "[[1491  102]\n",
      " [ 185  222]]\n",
      "\n",
      "True positive: 222\n",
      "False positive: 185\n",
      "False negative: 102\n",
      "True negative: 1491\n",
      "\n",
      "Exact results= 1713\n",
      "Wrong results= 287\n"
     ]
    }
   ],
   "source": [
    "#Creating a confusion matrice balanced model.\n",
    "print('Confusion Matrice - Balanced model.')\n",
    "print()\n",
    "cm = confusion_matrix(target_test, balanced_predictions_test)\n",
    "print(cm)\n",
    "print()\n",
    "#Extracting TruePositive, FalsePositive, FalseNegative and TrueNegative from our confusion matrice.\n",
    "tn, fn, fp, tp = confusion_matrix(target_test, balanced_predictions_test).ravel()\n",
    "print('True positive:', tp)\n",
    "print('False positive:', fp)\n",
    "print('False negative:', fn)\n",
    "print('True negative:', tn)\n",
    "print()\n",
    "exact = tp + tn\n",
    "wrong = fp + fn\n",
    "print('Exact results=',exact)\n",
    "print('Wrong results=',wrong)"
   ]
  },
  {
   "cell_type": "code",
   "execution_count": 46,
   "metadata": {},
   "outputs": [
    {
     "name": "stdout",
     "output_type": "stream",
     "text": [
      "Classification report - Upsampled model: \n",
      "               precision    recall  f1-score   support\n",
      "\n",
      "           0       0.91      0.88      0.89      1593\n",
      "           1       0.58      0.65      0.61       407\n",
      "\n",
      "    accuracy                           0.83      2000\n",
      "   macro avg       0.74      0.76      0.75      2000\n",
      "weighted avg       0.84      0.83      0.84      2000\n",
      "\n"
     ]
    }
   ],
   "source": [
    "#Classification report. Upsampled model\n",
    "report= classification_report(target_test, upsampled_predictions_test)\n",
    "print('Classification report - Upsampled model: \\n', report)"
   ]
  },
  {
   "cell_type": "code",
   "execution_count": 47,
   "metadata": {},
   "outputs": [
    {
     "name": "stdout",
     "output_type": "stream",
     "text": [
      "Classification report - Downsampled model: \n",
      "               precision    recall  f1-score   support\n",
      "\n",
      "           0       0.89      0.94      0.91      1593\n",
      "           1       0.69      0.55      0.61       407\n",
      "\n",
      "    accuracy                           0.86      2000\n",
      "   macro avg       0.79      0.74      0.76      2000\n",
      "weighted avg       0.85      0.86      0.85      2000\n",
      "\n"
     ]
    }
   ],
   "source": [
    "#Classification report. Downsampled model\n",
    "report= classification_report(target_test, downsampled_predictions_test)\n",
    "print('Classification report - Downsampled model: \\n', report)"
   ]
  },
  {
   "cell_type": "code",
   "execution_count": 48,
   "metadata": {
    "scrolled": true
   },
   "outputs": [
    {
     "name": "stdout",
     "output_type": "stream",
     "text": [
      "Classification report - Balanced model: \n",
      "               precision    recall  f1-score   support\n",
      "\n",
      "           0       0.89      0.94      0.91      1593\n",
      "           1       0.69      0.55      0.61       407\n",
      "\n",
      "    accuracy                           0.86      2000\n",
      "   macro avg       0.79      0.74      0.76      2000\n",
      "weighted avg       0.85      0.86      0.85      2000\n",
      "\n"
     ]
    }
   ],
   "source": [
    "#Classification report. Balanced model\n",
    "report= classification_report(target_test, balanced_predictions_test)\n",
    "print('Classification report - Balanced model: \\n', report)"
   ]
  },
  {
   "cell_type": "markdown",
   "metadata": {},
   "source": [
    "# Brief summarize. Testing phase.\n",
    "\n",
    "I tested all the models on test dataframe. This resulted into:\n",
    "1) Upsampled model with Test: 0.833 and Train: 0.927 of accuracy.\n",
    "2) Downsampled model with Test: 0.857 and Train: 0.914 of accuracy.\n",
    "3) Balanced model with Test: 0.848 and Train: 0.919 of accuracy.\n",
    "\n",
    "Drowing the confusion matrix for each of the model. Resulted into:\n",
    "1) Upsampled model: True positive: 264, False positive: 143, False negative: 192, True negative: 1401\n",
    "- Exact results= 1665 and Wrong results= 335\n",
    "\n",
    "2) Downsampled model: True positive: 222, False positive: 185, False negative: 102, True negative: 1491\n",
    "- Exact results= 1713, Wrong results= 287\n",
    "\n",
    "3) Balanced model: True positive: 222, False positive: 185, False negative: 102, True negative: 1491\n",
    "- Exact results= 1713, Wrong results= 287\n",
    "\n",
    "I reported all the data and metrics related to the models in the end of my exercise. This returned three really similar models.\n",
    "The first is probably the only one to discard. Since obtained more mistakes then the other two. The other two present a confusion matrix perfectly equal. I am quite satisfied of the obtained results. 287 mistakes on 2000 predictions. In my opinion, is quite a good result. "
   ]
  }
 ],
 "metadata": {
  "ExecuteTimeLog": [
   {
    "duration": 1154,
    "start_time": "2021-08-07T13:30:16.894Z"
   },
   {
    "duration": 98,
    "start_time": "2021-08-09T14:06:22.591Z"
   },
   {
    "duration": 1944,
    "start_time": "2021-08-09T14:06:28.063Z"
   },
   {
    "duration": 232,
    "start_time": "2021-08-09T14:07:03.773Z"
   },
   {
    "duration": 452,
    "start_time": "2021-08-25T11:40:33.997Z"
   },
   {
    "duration": 1222,
    "start_time": "2021-08-25T11:40:38.350Z"
   },
   {
    "duration": 23,
    "start_time": "2021-08-25T11:40:39.574Z"
   },
   {
    "duration": 4,
    "start_time": "2021-08-25T11:40:40.212Z"
   },
   {
    "duration": 3,
    "start_time": "2021-08-25T11:40:40.757Z"
   },
   {
    "duration": 18,
    "start_time": "2021-08-25T11:40:41.572Z"
   },
   {
    "duration": 19,
    "start_time": "2021-08-25T11:40:42.182Z"
   },
   {
    "duration": 13,
    "start_time": "2021-08-25T11:40:50.126Z"
   },
   {
    "duration": 8,
    "start_time": "2021-08-25T11:40:55.127Z"
   },
   {
    "duration": 33,
    "start_time": "2021-08-25T11:42:39.030Z"
   },
   {
    "duration": 18,
    "start_time": "2021-08-25T11:42:39.191Z"
   },
   {
    "duration": 4,
    "start_time": "2021-08-25T11:42:39.341Z"
   },
   {
    "duration": 3,
    "start_time": "2021-08-25T11:42:39.487Z"
   },
   {
    "duration": 20,
    "start_time": "2021-08-25T11:42:39.630Z"
   },
   {
    "duration": 13,
    "start_time": "2021-08-25T11:42:39.786Z"
   },
   {
    "duration": 6,
    "start_time": "2021-08-25T11:42:39.943Z"
   },
   {
    "duration": 32,
    "start_time": "2021-08-25T11:42:40.089Z"
   },
   {
    "duration": 46,
    "start_time": "2021-08-25T11:42:40.262Z"
   },
   {
    "duration": 6,
    "start_time": "2021-08-25T11:42:40.407Z"
   },
   {
    "duration": 33,
    "start_time": "2021-08-25T11:42:40.591Z"
   },
   {
    "duration": 17,
    "start_time": "2021-08-25T11:42:41.022Z"
   },
   {
    "duration": 4,
    "start_time": "2021-08-25T11:42:41.471Z"
   },
   {
    "duration": 9,
    "start_time": "2021-08-25T11:42:42.910Z"
   },
   {
    "duration": 150,
    "start_time": "2021-08-25T11:42:43.071Z"
   },
   {
    "duration": 8,
    "start_time": "2021-08-25T11:42:43.310Z"
   },
   {
    "duration": 13,
    "start_time": "2021-08-25T11:42:43.527Z"
   },
   {
    "duration": 5,
    "start_time": "2021-08-25T11:42:43.879Z"
   },
   {
    "duration": 5,
    "start_time": "2021-08-25T11:42:44.095Z"
   },
   {
    "duration": 7,
    "start_time": "2021-08-25T11:42:44.440Z"
   },
   {
    "duration": 22,
    "start_time": "2021-08-25T11:42:44.640Z"
   },
   {
    "duration": 3,
    "start_time": "2021-08-25T11:42:45.911Z"
   },
   {
    "duration": 2791,
    "start_time": "2021-08-25T11:42:50.944Z"
   }
  ],
  "kernelspec": {
   "display_name": "Python 3",
   "language": "python",
   "name": "python3"
  },
  "language_info": {
   "codemirror_mode": {
    "name": "ipython",
    "version": 3
   },
   "file_extension": ".py",
   "mimetype": "text/x-python",
   "name": "python",
   "nbconvert_exporter": "python",
   "pygments_lexer": "ipython3",
   "version": "3.7.8"
  },
  "toc": {
   "base_numbering": 1,
   "nav_menu": {},
   "number_sections": true,
   "sideBar": true,
   "skip_h1_title": true,
   "title_cell": "Table of Contents",
   "title_sidebar": "Contents",
   "toc_cell": false,
   "toc_position": {},
   "toc_section_display": true,
   "toc_window_display": false
  }
 },
 "nbformat": 4,
 "nbformat_minor": 2
}
